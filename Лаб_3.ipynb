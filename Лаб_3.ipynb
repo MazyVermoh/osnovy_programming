{
  "nbformat": 4,
  "nbformat_minor": 0,
  "metadata": {
    "colab": {
      "provenance": [],
      "authorship_tag": "ABX9TyPAS+5wuSvTbdC8JW+jS3ZD",
      "include_colab_link": true
    },
    "kernelspec": {
      "name": "python3",
      "display_name": "Python 3"
    },
    "language_info": {
      "name": "python"
    }
  },
  "cells": [
    {
      "cell_type": "markdown",
      "metadata": {
        "id": "view-in-github",
        "colab_type": "text"
      },
      "source": [
        "<a href=\"https://colab.research.google.com/github/MazyVermoh/osnovy_programming/blob/main/%D0%9B%D0%B0%D0%B1_3.ipynb\" target=\"_parent\"><img src=\"https://colab.research.google.com/assets/colab-badge.svg\" alt=\"Open In Colab\"/></a>"
      ]
    },
    {
      "cell_type": "markdown",
      "source": [
        "Вариант No4\n",
        "Построить описание класса, содержащего информацию о почтовом адресе организации. Предусмотреть возможность раздельного изменения составных частей адреса и проверки допустимости вводимых значений. В случае недопустимых значений полей выбрасываются исключения.\n",
        "Написать программу, демонстрирующую все разработанные элементы класса."
      ],
      "metadata": {
        "id": "n8ZTwJkPh9u4"
      }
    },
    {
      "cell_type": "code",
      "execution_count": 1,
      "metadata": {
        "colab": {
          "base_uri": "https://localhost:8080/"
        },
        "id": "HVIFL7JRAK-t",
        "outputId": "46c5ee42-7470-4a9a-b8b7-4ebf57f7699e"
      },
      "outputs": [
        {
          "output_type": "stream",
          "name": "stdout",
          "text": [
            "Адрес организации:\n",
            "Улица: Улица Пушкина\n",
            "Город: Город Новосибирск\n",
            "Почтовый индекс: 630090\n",
            "Адрес организации:\n",
            "Улица: Улица Лермонтова\n",
            "Город: Город Москва\n",
            "Почтовый индекс: 123456\n",
            "Ошибка: Поле 'Улица' не может быть пустым.\n"
          ]
        }
      ],
      "source": [
        "class PostalAddress:\n",
        "    def __init__(self, street, city, postal_code):\n",
        "        self.street = street\n",
        "        self.city = city\n",
        "        self.postal_code = postal_code\n",
        "\n",
        "    def set_street(self, street):\n",
        "        if street:\n",
        "            self.street = street\n",
        "        else:\n",
        "            raise ValueError(\"Поле 'Улица' не может быть пустым.\")\n",
        "\n",
        "    def set_city(self, city):\n",
        "        if city:\n",
        "            self.city = city\n",
        "        else:\n",
        "            raise ValueError(\"Поле 'Город' не может быть пустым.\")\n",
        "\n",
        "    def set_postal_code(self, postal_code):\n",
        "        if len(postal_code) == 6 and postal_code.isdigit():\n",
        "            self.postal_code = postal_code\n",
        "        else:\n",
        "            raise ValueError(\"Недопустимый почтовый индекс.\")\n",
        "\n",
        "    def display_address(self):\n",
        "        print(\"Адрес организации:\")\n",
        "        print(\"Улица:\", self.street)\n",
        "        print(\"Город:\", self.city)\n",
        "        print(\"Почтовый индекс:\", self.postal_code)\n",
        "\n",
        "\n",
        "# Пример\n",
        "try:\n",
        "    address = PostalAddress(\"Улица Пушкина\", \"Город Новосибирск\", \"630090\")\n",
        "    address.display_address()\n",
        "\n",
        "    address.set_street(\"Улица Лермонтова\")\n",
        "    address.set_city(\"Город Москва\")\n",
        "    address.set_postal_code(\"123456\")\n",
        "    address.display_address()\n",
        "\n",
        "    address.set_street(\"\")  # Код продемонстрирует ошибку из за недопустимого значения\n",
        "except ValueError as e:\n",
        "    print(\"Ошибка:\", str(e))\n"
      ]
    }
  ]
}