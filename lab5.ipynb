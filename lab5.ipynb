{
  "nbformat": 4,
  "nbformat_minor": 0,
  "metadata": {
    "colab": {
      "provenance": [],
      "authorship_tag": "ABX9TyOWCFfJ6TZoFfs9zt4M2Qdj",
      "include_colab_link": true
    },
    "kernelspec": {
      "name": "python3",
      "display_name": "Python 3"
    },
    "language_info": {
      "name": "python"
    }
  },
  "cells": [
    {
      "cell_type": "markdown",
      "metadata": {
        "id": "view-in-github",
        "colab_type": "text"
      },
      "source": [
        "<a href=\"https://colab.research.google.com/github/MazyVermoh/osnovy_programming/blob/main/lab5.ipynb\" target=\"_parent\"><img src=\"https://colab.research.google.com/assets/colab-badge.svg\" alt=\"Open In Colab\"/></a>"
      ]
    },
    {
      "cell_type": "markdown",
      "source": [
        "№ 5.2.1![E08E7057-4B26-4DF2-AE15-D367778EB008.png](data:image/png;base64,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)![82C43AC4-FFD4-4656-95E2-6033982F4263.png](data:image/png;base64,iVBORw0KGgoAAAANSUhEUgAAAPUAAABoCAYAAAApSbb4AAASLElEQVR4nO3df0zb953H8efG7Rvlzr1czLJAuULvINnFpDpn3LxVIqvkZFpgukCV4GmFCJkssq8RdBVsUa12cxfJUVZHaY3SwPWAi4DlBqmCO6301MZSVp+6+MTi3QVYF0cNVMxUDG8o3wr1q7G7PzA/8ovaYOMfeT/+IsTf7/fDV35/P9/v5/v5vr6f+dOf/vR/CCGyxmdT3QAhRGJJUQuRZaSohcgyUtRCZBkpaiGyjBS1EFlGilqILCNFLUSWkaIWIstIUQuRZaSohcgyUtRCZBkpaiGyjBS1EFlGilqILCNFLUSWkaLOdHNhAm12KvdW0jqU6saIdPAXqW6AWIOZAK1HnXgndZgdHTSWpbpBIh1IT52p1CCtdgfeSTDYX8Jhzk91i0SakKLOSCp+jwPvFCjmFlxPFsW1tDYRoNVWif1COEnty3YqoYsuDh+o5lC9heoDTbQHIqlu1CI5/c5A2lAXbp8GFFH7lBldTixLjdBVf4LB2U/YMKcSntEo+XqSG5qlwhcdNL0G1rYBagpBHWql4VgDqquHZpMu1c2TnjrzqPhf96IC7NiH+ZFYlzNgPddNX18fP64rSV7z0tGchjqboHXN+ul6bQTtiTpqCud/pSs7SE2xyuAZL2MJ2sxaSFFnmtkgvwzM/5j/T7vIj6mXfsBNBWhvruaQo4vAhLamVWmBX+DToOTRrct+m0/RNmDCR2B8TatPCDn9zjQfjTEa/XHH9gepx1UJXfRw4vVRtBz4JDLNhsdqaT5Wi3HTpyyaV07zq+WoN330vmTBObubxu9aqdihj7sV01PRqs1Rbvu9ogCMMT4JFMa92oSSnjrTTEdYGN7a8CD10qO9tJzxMaaW89y5bvrOOzG+30VLQyvBGE+tdY+asb08wJsv7kG9+D2q65z0D8U3WPjR70Ir/v/18dQPPkpRi8ywOY9CBdgIzAE6Ewer82HGy8B7anzryjNS4+hgwGNB94sXqfx2C13vhdHmktDuFJDTb5EZ8qrwDOxBRbc42q/oNgNhJiO3gFWMOusNVDzbRsXMGL7zJ7C4NSqOPkftE0Ux3lFIT1LUInOokwTe6uPN/7zBH/56K4/kJGhUalMR5obnUOZexH36BMoX3Fh33vsgsfXhEuD+p+CFBamfBCRFLTKCFmznsKOf6e1W3KcdGPQQvtiE/9rI2lY8M4bv/CnafLDH3kKnvQT9Cr107pZCIETk44+Xtw5VBcgnP3dtzUkEKWqRAVT8ff2EtXxqn67FcNegdYCu+qvkuZ1UbIlxlZNBvOfb6BrSU3W0mZ4jRSgxnHIrpq9hVnz4JpfPIJsmPAY8ug9zcYzbTyIZKBO30YKtWPbupfq4n/SZ+KhDn6cAtwhPRwfF1BBv+RZ6aQ11IhLTQJc2EaDLcYjqH11C2eei75wL6+OxFTQAG8uxHjGgvN1D/0S0KUMX6L+hYH6qiqKF9Ux6aarcy96GXkLrPAAnPXWmuf4/iz/+7/uAKdYFIwwef4afhODW1Pxtl1DbYSw/y2VDyVO88kIFeiD8fnC+mC8PcOVoORXx38pNCmODh+Y5D+3HLVTr88ndXMz+pz00djto7+xFOeTEukIvrd700ftyG5fYg73xFQaKV/+H5T/pwoOHE/ZK+vU6mC1kz/EObI8vXYdroWFCGjDez6XRWkp2rnpzcfuMvHQ+w/zHEfb+2wcA/G39O/z7oQSvf04jcjNA7497yPtBGzUFCV5/CmjXunD8FCxHajEVKp++QKK2Ox7C22lnvPIdmmM++K6d9NSZprgUmC/qf0jG9VuOgv5huPVhKbvzkrD+FFB2WnGvY0+5uN3Cz6F9YKBknWeYyTV1pvns0sXf55J0SA7/vI/g/j0YM/hebTpQAxfwFlSwO9bBuwSRoha3m/Dy4uvbaPm2IdUtyWxagPaTY9TYK1a8RZYMcvotbldQRdv5VDciCygmml9fxwvpZaSnFiLLPBhFPaehzsT5HK2mJu7BeiHWUfYX9VwY3/HDON6O85E4LURXw2Har8X5BJAQKZb1RT3S+Qxu7SmccYbzoTPS+AMTl747n9iZfvLR/02q2yDSUXYX9Wg7zp/mYT26yhHIHVYc+8dpPT2YNlMmw+PXoz8VU/RwSpsi0lQWj35H8HV7iZS3ULHqWVEKxv015H+nnf5rFdhSMIHhdho3RqPznct2YdwY7/LRSKCeAJpO4ZaaR8UxJzZTmswFzRjpvR+zt6eOXOHNgEb510yreXx+yaPl7CtQGbwcTFTLVm82wC/8AArmyj1xn33MR9tOsu/0AN3n+uhxbOOSo4FTARk3iEe678f166nnVII9DpxvTPIQKtNba3GfqsWwvLeZCeE9c4KuIQ1F+wRDXS3bfh+h6ICV4kALz7w2QkRnwuFuoTAQDaHTpplWTLScdGJe1iOrQ+8SpATbF+9T0lMBujyd+Gb1PBL5COWfD7Lrd5PkHrBSftv0yCJKy6DLf5XQUSOpjPqLXB7ApwE7rNSWx3moWoy2dd0Rbeul/YyXg6Za4hx1eDBlwH5ct5464nPheKMIR2cf3X0dWHO66Ly87Ep1wofTbqeLWs72ddN3vgnlXCtdF/u5+oGfrvNFOM7YMEz5cdVbcP++kpfOddN9zkH5pB/Xaz6WHydDvw0C2yi61/zlCS9N9Q68mxo4e9KF60wjuT2naL3Yz9WJuz++9REDTA1zPZUX1qqfNk8QFAO279UsPeIXo0yIts0EmbAf16mnDuHtDJC7vw3TJmD0Ld64AdO/HYd9eiCM9yU3/ikjjUfM81nWumJKi8E3aqJUu4LniQocH7/LOKDstPHDBuP86aeisAEgPM1SUlX0vnRxIVvvaksY70vtjGhGGutN81lUG7dS+DAwY6L0i3e3Pr+gCLjC5O+B+102aQFaj7QSiGe3PGbjbEv5p18ezIXxPu/CRz5VzqUeIh6ZEG27sjVEBCdQJuzH9SnqyWGuTsGtkWFCM4WUbN6G+ZtWSg8YAdD8XbRf06C8kj0Lk99nbzA8ChSXUmyqoMekI/xzDypQvn/PUoj9h9cJAuTn8tDiBqeZjt6WvvPh98Vtle1Zmmi/fFv3GnzKUYAIkT+u8DcqJhrPdce8S2Kmhuh9vomuj0w0vtxC1fbVjRDEFG1rSn2+1n1FI4JVXQ2eARsGNcCpegctDRHcPY2rGDRcnUzYj+tT1Fu2UboFRoZasR9oBfSUH3sFa/TUeOTXfjTA8I87lnqtm8MEAN2uUoo26gCN4G9DgIFdhqUvdvjqFcKA8avGmAbEFrZV8iXDUqe7fFvp9mTSzUv0XlMw2K2rLuisEI0IHrkjInjwnJeB96wYzffbN2N4jz3PhXjmGvzVPn74am1Kx0/WYn2KOseAraeb3ZcDXPnlJbz+EfwnTzFY5qZCH2bsNxqgo3Tb0hEuPHx1vlfevnAuM8JVP1Cwi9LFR9nCBHwjgJHdZXqYVdEUHUrOBrhncS5sS6G0ZGk4I/yb4aVtaep8DO36PUu/sp02+lwaDY7DVP+qmbPHKx7MV+2sOiK4iKqT3VStUzPTQdKLOuJzUufyo3zLw8CRKgzmKvZdsHOobeETueTmA6N56Dcv/E5l9NodvfLNYQIaKI+VUrKYAxXg0ihQtpvd+jH6bc+jfr8b63Y9RX8PvDHJR8DSoeIhHnoIoJC8vGXb+vVIdFsKfncl73x1AOeyI39k4jpQQuFK97uTeE2tMzXS+cItLMdPcbhZo+NUVdyFnQnRtp8qWRHBcciE/Zj0op68EUTbZML2jejzuXNj+C+H0O93s1sPoGD4sgnFN8LkFFAAYxccuO/oldXrw/On2TuXnRRNjhMCSr5kRBm6QL/uIK9E00Dmd/40EZVlB3Edxq8ZIRBa3Fb4YnRbFJGvC/DOe2b2Nt1eZrdm/gDsuPdI+oJkXVMvtPyJJhz/5cfpa+X7PaV018d3cpgJ0bYrSVpEcJwyYT8mvagN33ZR+76T3pZDXNgIzCnsOOChbb9hsdb0Zgeu3zlwvlBNYNNDbC7YjAKwrFce/zCEsrGcyrJlw8+PHcT2+Lu0D/yIloJyHC8u9WD5pbvQMcj1m2BeNhNM/3UHrpsu3O4mwgUfo/2dDc/JYTwuL277CIajP+D2W8AqN0bDUPbU0hlCSugor7NS5GtnrNtN/9748sMyIdr2/tYSEZzYa+pM2I/Jv6bWGbC6+7Cu9JkcHcZ6DwP18/9U33ZQPXR7r2xo6OPNhjuXy6fqeN+9r5e276ZiUz+XhkLYlvfuOXpMdjd99uUfNuF5/T4tjL461tj0lfvezVo3hSb2PdpO+80QvQNBao4aY182Gm3rP9NDf52JmoJl0baOpWhbLdhKXYsX7QknnS+Up/5vBu6OCNbFERGc4GvqGPcjk16aGloZybPS9lrtunYIqZ8mOuGn60wvgamFX2gE/zsAGPjKY2v4SuUY2GcpInJxkOAacpcjlwfwbarAYk6Hr3cRpV+ZP41Q375CvCee+U+68BzN4y17JZZ6Cw0nx9hzvAPHsvGDhYhg9fIAV9LlKRaiEcHfLCRw3EJ13WEOP9eH/mkPjSYd4529XD/UsHQ7NMli2Y+3RwSvT7sWpDgiOIL3uxZar4GxpQ/3Pj1qoJUGxyAbnnRy1m5a24vKZoO0NrQwVj+/7rjNjdBe18KwpQPPk6kfAIHoWczJAFCC7VwSInyzMCI4VVIVEZzinlqPab+Zok0KI53PcKjOQsO/hqk43kHHWgsaYKORRncjmse5+DaF2KkEzzi59LgT1/70KGgAnX6hLSEmk/Gc97KI4G1ZEhGcKqmKCE75o5f5Zgcd5iRuoKAK18saLo8X08mqmCfba0O9dM7ZeaUpAQeXJEnW+5TnI4LtONL0784UCxHBbescEZzyol4Puu01uE7Gt4xSZsNTlpz2pLWFiOA2iQhek4WI4NPNEhEsUkwighNDIoKFEIkiRS1ElpGizjR/Xhod+/OfU9gOkbakqDPNjeHFH4evr/A58cCSohaxm4swctGJZe8pAkm6nZYZVEIXXRw+UM2hegvVB5poD6TP9DsZ/c40n9/Cwvupv/D59dlk5C0nz/SM8AmgTkbQqFifDaep+TRRsLYNUFMI6lArDccaUF09NJtSH2QhPXWm2bw0u23rOj3mp9/npLunj74exwNezixLE627I01UZfCMl7HUtg6QohZi3pxG+L0uHN85zKn37p/fLWmiQiRMktJE58IE3/gJbeevs62hiZZXrehXiLKSNFEhEiXRaaIzY/gG2un9uYrJ3oTrfElM0zkzIU1UTr9FZoimiXJHmigzXgZWOF2+y2QQ72k7lmd7md5p4+x5DzZzbAWdKaSnFplh1Wmi87SJAL1nWvH+0Yit0UVPk/6uTPhsIUWdaf5SQQfE/yo2Ff/pf6E91vf8pWP29SrTRLVAKxanl8In3ZxtMK4pYlnSREXiPbwNAxAARj4YA1OsT4jrKH+2m/IkNi2Z1pImqpgaGfjZQYIXunjecopHLM3YDq6uuDMhTVSuqTPNJiO7o895j/1qhPSZx5RMS2miNfdNE3UyOHWvZaNy8jF+y0FH3yvUbbnCCcshWs75GJuJryXzaaIQSeM0USnqjKNnj6Vq/gpyaJB3V/oiryuN4BkLe/dW47yc6EPNnWmixJEmeoccPSVmG56+Dpp3TtP7bDV29yAjsTY5miaqvN2zGJG1mCb6VFVavLYpxcGDYnUi+Bx1uAIauq+76Dlmiuk9Yqt2rYtDL/lgdppwRANA2ZRPrg7M3+vGuhNgjP7vHKb9JlDWTN/JisTGC6shBl/z0P52CPT55G4uZv/T1dDtoD0IJd9y4qozrip6KnLDR39rG4HcGhqP1GD81Gy26D3zTj+39DqYLWTPs83YHk/99TRIUWcuNUjrkRa8UzoqjvfQ/Hjq5xyjRQgFenF35/HD9hrS4yseh8kg3vM9hL7spLk8DfbnKklRZ7IpP6eedTE4qWB2dOJIg2xy7bKL6l9X8mZTHC8aEAkl19SZbEs5zec6cB3Mw++y0DqU4vbMhfFeCFJlloJOJempRcKEL9p55sMGOo+mb6zyg0CKWogsI6ffQmQZKWohsowUtRBZRopaiCwjRS1ElpGiFiLLSFELkWWkqIXIMlLUQmQZKWohsowUtRBZRopaiCwjRS1ElpGiFiLLSFELkWWkqIXIMlLUQmQZKWohsowUtRBZRopaiCwjRS1Elvl/tSdKhpbbLXgAAAAASUVORK5CYII=)\n",
        "\n",
        "Определите значение, где sgn - сигнум-функция, а x и y - вещественные числа:"
      ],
      "metadata": {
        "id": "nVetH55_9LvV"
      }
    },
    {
      "cell_type": "code",
      "source": [
        "from math import *"
      ],
      "metadata": {
        "id": "tiJuImuHNVQv"
      },
      "execution_count": null,
      "outputs": []
    },
    {
      "cell_type": "code",
      "execution_count": null,
      "metadata": {
        "id": "ZE4Ru5yfJL9m"
      },
      "outputs": [],
      "source": [
        "def input_data():\n",
        "\n",
        "  return (float(x) for x in input('Введитеx x, y: ').split())\n",
        "\n",
        "\n",
        "def sgn(a):\n",
        "  if a > 0:\n",
        "    res = 1\n",
        "    return res\n",
        "  elif a < 0:\n",
        "      res = -1\n",
        "      return res\n",
        "  elif a == 0:\n",
        "      res = 0\n",
        "      return res\n",
        "\n",
        "def znachenie(a,b):\n",
        "\n",
        "  if (a==0 and b == 0 or abs(a)==abs(b) or abs(a) - abs(b)==1):\n",
        "    return\n",
        "  z = (sgn(a)+b**2)/(sgn(b)-sqrt(abs(a)))\n",
        "  return z\n",
        "\n",
        "def print_res(res): \n",
        "  if res:\n",
        "    print('Ответ: {:.2f}' .format(res))\n",
        "  else:\n",
        "      print('Проверить ОДЗ')\n",
        "\n",
        "\n"
      ]
    },
    {
      "cell_type": "code",
      "source": [
        "x, y = input_data()\n",
        "res = znachenie(x, y)\n",
        "print_res(res)"
      ],
      "metadata": {
        "colab": {
          "base_uri": "https://localhost:8080/"
        },
        "id": "WcR1bnWEMotY",
        "outputId": "7d1d5b8c-48c8-4c2d-be72-0da6fb296840"
      },
      "execution_count": null,
      "outputs": [
        {
          "output_type": "stream",
          "name": "stdout",
          "text": [
            "Введитеx x, y: -9 0\n",
            "Ответ: 0.33\n"
          ]
        }
      ]
    },
    {
      "cell_type": "markdown",
      "source": [
        "№ 5.2.2\n",
        "\n",
        "Дан список температурных изменений в течение дня (целые числа). Известно, что измеряющее устройство иногда сбоит и записывает отсутствие температуры (значение None).\n",
        "\n",
        "Выведите среднюю температуру за наблюдаемый промежуток времени, предварительно очистив список от неопределенных значений. Гарантируется, что хотя бы одно определенное значение в списке есть."
      ],
      "metadata": {
        "id": "NwIggcR296y9"
      }
    },
    {
      "cell_type": "code",
      "source": [
        "def input_data():\n",
        "  for i in range(n):\n",
        "    dimension = input('измерение {}-е: ' .format(i + 1))\n",
        "    if dimension == '-':\n",
        "      data.append(None)\n",
        "    else:\n",
        "      data.append(int(dimension))\n",
        "    i += 1\n",
        "\n",
        "def avg(new_data):\n",
        "  return sum(new_data) / len(new_data)\n",
        "\n",
        "def cleared_data(data):\n",
        "  new_data = []\n",
        "  for x in data:\n",
        "    if x != None:\n",
        "      new_data.append(x)\n",
        "  return new_data\n",
        "\n",
        "def print_res2():\n",
        "  z=avg(cleared_data(data))\n",
        "  print('Средняя температура: {:.2f}' .format(z))\n",
        "\n"
      ],
      "metadata": {
        "id": "rXYsfHPXOKn8"
      },
      "execution_count": null,
      "outputs": []
    },
    {
      "cell_type": "code",
      "source": [
        "n = int(input('Кол-во измерений: '))\n",
        "data = []\n",
        "\n",
        "input_data()\n",
        "\n",
        "print_res2()"
      ],
      "metadata": {
        "colab": {
          "base_uri": "https://localhost:8080/"
        },
        "id": "RHsijTfqPpBU",
        "outputId": "fdd03a93-8fd5-4e09-e3a8-a5e0c44452d0"
      },
      "execution_count": null,
      "outputs": [
        {
          "output_type": "stream",
          "name": "stdout",
          "text": [
            "Кол-во измерений: 3\n",
            "измерение 1-е: 10\n",
            "измерение 2-е: -\n",
            "измерение 3-е: 20\n",
            "Средняя температура: 15.00\n"
          ]
        }
      ]
    },
    {
      "cell_type": "markdown",
      "source": [
        "№ 5.2.3\n",
        "\n",
        "Выведите все счастливые номера билетов в диапазоне от a до b (положительные целые числа, a<b), если известно, что счастливым считается номер, у которого количество четных цифр равно количеству нечетных."
      ],
      "metadata": {
        "id": "VrvjEqNR-GIu"
      }
    },
    {
      "cell_type": "code",
      "source": [
        "def input_data():\n",
        "\n",
        " return (int(x) for x in input('Введите первый номер и последний номер билета: ').split())\n",
        "\n",
        "def is_lucky(num):\n",
        "  even = 0\n",
        "  odd = 0\n",
        "  for i in map(int, str(num)):\n",
        "      if i % 2 ==0:\n",
        "          even += 1\n",
        "      else:\n",
        "           odd += 1\n",
        "  if even == odd:\n",
        "      lucky_num.append(num)\n",
        "  else:\n",
        "      pass\n",
        "\n",
        "def lucky_numbers(a,b):\n",
        "  num = a\n",
        "  while num in range(a,b + 1):\n",
        "    is_lucky(num)\n",
        "    if num in lucky_num:\n",
        "        lk_num.append(num)\n",
        "        num += 1\n",
        "    else:\n",
        "        num += 1\n",
        "\n",
        "  return lk_num\n"
      ],
      "metadata": {
        "id": "XEGK7KI9Qr4X"
      },
      "execution_count": null,
      "outputs": []
    },
    {
      "cell_type": "code",
      "source": [
        "lucky_num=[]\n",
        "number=[]\n",
        "lk_num=[]\n",
        "\n",
        "a,b = input_data()\n",
        "print(lucky_numbers(a,b))"
      ],
      "metadata": {
        "colab": {
          "base_uri": "https://localhost:8080/"
        },
        "id": "shR1QpIlU-ZX",
        "outputId": "042b4886-5c99-4e31-b863-4f0e340e8ea0"
      },
      "execution_count": null,
      "outputs": [
        {
          "output_type": "stream",
          "name": "stdout",
          "text": [
            "Введите первый номер и последний номер билета: 10 25\n",
            "[10, 12, 14, 16, 18, 21, 23, 25]\n"
          ]
        }
      ]
    },
    {
      "cell_type": "markdown",
      "source": [
        "№ 5.2.4\n",
        "\n",
        "Дата характеризуется тремя натуральными числами: день, месяц и год. Учитывая, что год может быть високосным, реализуйте две функции, которые определяют вчерашнюю и завтрашнюю дату."
      ],
      "metadata": {
        "id": "1VE6xu5gCIBF"
      }
    },
    {
      "cell_type": "code",
      "source": [
        "def is_leap(year):\n",
        "  if year % 4 == 0 and year % 100 != 0 or year % 400 == 0:\n",
        "    febrary_day = 29\n",
        "  else:\n",
        "    febrary_day = 28\n",
        "  return febrary_day\n",
        "\n",
        "def days(month, year):\n",
        "  month_day_31 = [1,3,5,7,8,10,12]\n",
        "  month_dat_30 = [4,6,9,11]\n",
        "  if month in month_day_31:\n",
        "    date = 31\n",
        "  elif month in month_day_30:\n",
        "    date = 30\n",
        "  else:\n",
        "    date = is_leap(year)\n",
        "  return date\n",
        "\n",
        "def previous_date(day, month, year):\n",
        "    if day == 1:\n",
        "      month -= 1\n",
        "      if month == 0:\n",
        "        year -= 1\n",
        "        month = 12\n",
        "      else:\n",
        "        year = year\n",
        "        month = month\n",
        "    else:\n",
        "      day -= 1\n",
        "      month = month \n",
        "      year = year \n",
        "    return day, month, year\n",
        "def next_date(day, month, year):\n",
        "  if day == days(month, year):\n",
        "    month += 1\n",
        "    if month == 13:\n",
        "      month = 1\n",
        "      year += 1\n",
        "      day = 1\n",
        "    else:\n",
        "        month = month\n",
        "        year = year\n",
        "  else:\n",
        "    day += 1\n",
        "    month = month\n",
        "    year = year\n",
        "\n",
        "  return day, month, year"
      ],
      "metadata": {
        "id": "cKLnrmGVVIGg"
      },
      "execution_count": null,
      "outputs": []
    },
    {
      "cell_type": "code",
      "source": [
        "day, month, year = input(\"День, месяц, год через пробел: \").split()\n",
        "day = int(day)\n",
        "month = int(month)\n",
        "year = int(year)\n",
        "print(\"Предыдущий день: \", previous_date(day, month, year))\n",
        "print(\"Следующий день: \", next_date(day, month, year))"
      ],
      "metadata": {
        "colab": {
          "base_uri": "https://localhost:8080/"
        },
        "id": "xOxdKXb0FkRN",
        "outputId": "6572b644-a54f-49c5-dec7-5ba4b43aa0d3"
      },
      "execution_count": null,
      "outputs": [
        {
          "output_type": "stream",
          "name": "stdout",
          "text": [
            "День, месяц, год через пробел: 21 10 2022\n",
            "Предыдущий день:  (20, 10, 2022)\n",
            "Следующий день:  (22, 10, 2022)\n"
          ]
        }
      ]
    },
    {
      "cell_type": "markdown",
      "source": [
        "№ 5.2.7\n",
        "\n",
        "Даны n предложений. Определите, сколько из них содержат хотя бы одну цифру."
      ],
      "metadata": {
        "id": "4FYrZhcX_VHL"
      }
    },
    {
      "cell_type": "code",
      "source": [
        "def has_numbers(sentence):\n",
        "    sentences = 0\n",
        "    sentence_list = list(map(str, sentence))\n",
        "    numbers = '123456789'\n",
        "    numbers = list(map(str, numbers))\n",
        "    for y in numbers:\n",
        "        if y in sentence_list:\n",
        "            sentences += 1\n",
        "    return sentences\n",
        "\n",
        "\n",
        "def sentences_with_numbers_count(sentences):\n",
        "    print(f'Предложений с цифрой = {sentences}')"
      ],
      "metadata": {
        "id": "VJUJEtS-_WoD"
      },
      "execution_count": 8,
      "outputs": []
    },
    {
      "cell_type": "code",
      "source": [
        "n = int(input('Введите количество предложений: '))\n",
        "sentences = 0\n",
        "amount = 0\n",
        "\n",
        "for x in range(n):\n",
        "  sentence1 = input(f'Введите предложение №{x+1}: ')\n",
        "  f = has_numbers(sentence1)\n",
        "  if f == 1:\n",
        "    amount += 1\n",
        "\n",
        "sentences_with_numbers_count(amount)\n",
        "\n",
        "# --------------\n",
        "# Пример вывода:\n",
        "#\n",
        "# Введите количество предложений: 3\n",
        "# Введите предложение №1:\n",
        "# Просто текст\n",
        "# Введите предложение №2:\n",
        "# Текст с цифрой 1 (один)\n",
        "# Введите предложение №3:\n",
        "# Тут нет цифры\n",
        "# Предложений с цифрой = 1"
      ],
      "metadata": {
        "colab": {
          "base_uri": "https://localhost:8080/"
        },
        "id": "A_4YP4Vf_Ztm",
        "outputId": "79ea3579-1f4f-40ae-db41-192939ac3cf4"
      },
      "execution_count": 9,
      "outputs": [
        {
          "output_type": "stream",
          "name": "stdout",
          "text": [
            "Введите количество предложений: 3\n",
            "Введите предложение №1: Просто текст\n",
            "Введите предложение №2: Текст с цифрой 1 (один)\n",
            "Введите предложение №3: Тут нет цифры\n",
            "Предложений с цифрой = 1\n"
          ]
        }
      ]
    },
    {
      "cell_type": "markdown",
      "source": [
        "№ 5.2.8\n",
        "\n",
        "Дана строка s и символ k. Реализуйте функцию, рисующую рамку из символа k вокруг данной строки."
      ],
      "metadata": {
        "id": "s3IBUKTYPn8M"
      }
    },
    {
      "cell_type": "code",
      "source": [
        "def print_with_border(s, k):\n",
        "  s_len = len(s)\n",
        "  print(k * (s_len + 2))\n",
        "  print(k + s + k)\n",
        "  print(k * (s_len + 2))"
      ],
      "metadata": {
        "id": "RhmCz7QGPz3K"
      },
      "execution_count": null,
      "outputs": []
    },
    {
      "cell_type": "code",
      "source": [
        "s = input(\"Введите строку: \")\n",
        "k = input(\"Введите символ: \")\n",
        "print_with_border(s, k)"
      ],
      "metadata": {
        "colab": {
          "base_uri": "https://localhost:8080/"
        },
        "id": "uXlbagHIQQEs",
        "outputId": "1742ad50-3e8a-41e1-ea7e-bd7821e054d1"
      },
      "execution_count": null,
      "outputs": [
        {
          "output_type": "stream",
          "name": "stdout",
          "text": [
            "Введите строку: привет\n",
            "Введите символ: *\n",
            "********\n",
            "*привет*\n",
            "********\n"
          ]
        }
      ]
    },
    {
      "cell_type": "markdown",
      "source": [
        "№ 5.2.9\n",
        "\n",
        "Напишите функции для перевода числа (N∈[2;16]):\n",
        "\n",
        "• из 10-й системы счисления в N-ю;\n",
        "\n",
        "• из N-й системы счисления в 10-ю."
      ],
      "metadata": {
        "id": "Vxck3kDqF0L1"
      }
    },
    {
      "cell_type": "code",
      "source": [
        "numbers_all = '0123456789ABCDEF'\n",
        "\n",
        "def to_system(number, system):\n",
        "  f = ''\n",
        "  while number>0:\n",
        "    new = number % system\n",
        "    f = numbers_all[new] + f\n",
        "    number = number // system\n",
        "  return f\n",
        "\n",
        "def from_system(number, system):\n",
        "    f = ''\n",
        "    n = 0\n",
        "    done = 0\n",
        "    while number >= 1:\n",
        "      new1 = number%10 * (system ** n)\n",
        "      n += 1\n",
        "      done += new1\n",
        "      number = number // 10\n",
        "    return done"
      ],
      "metadata": {
        "id": "Fehzy5qqH2zz"
      },
      "execution_count": 14,
      "outputs": []
    },
    {
      "cell_type": "code",
      "source": [
        "a = to_system(10, 3)\n",
        "b = from_system(1010, 3)\n",
        "\n",
        "print(a)\n",
        "print(b)\n",
        "# --------------\n",
        "# Пример вывода:\n",
        "#\n",
        "# Нет"
      ],
      "metadata": {
        "colab": {
          "base_uri": "https://localhost:8080/"
        },
        "id": "e8t0021uH5rt",
        "outputId": "2b213e97-a564-4cfd-8a59-5597dac436c0"
      },
      "execution_count": 16,
      "outputs": [
        {
          "output_type": "stream",
          "name": "stdout",
          "text": [
            "101\n",
            "30\n"
          ]
        }
      ]
    },
    {
      "cell_type": "markdown",
      "source": [
        "№ 5.2.11\n",
        "\n",
        "Используя шифр Цезаря (достаточно только букв русского алфавита, знаки препинания не изменяются), зашифруйте, а затем расшифруйте введенную строку."
      ],
      "metadata": {
        "id": "OrvXQHe1RYWL"
      }
    },
    {
      "cell_type": "code",
      "source": [
        "def input_data():\n",
        "  smeshenie = int(input(\"Шаг шифровки: \"))\n",
        "  message = input(\"Введите сообщение: \").upper()\n",
        "  return Cezar(message, smeshenie)\n",
        "\n",
        "def Cezar(message, smeshenie):\n",
        "  alfavit = \"АБВГДЕЁЖЗИЙКЛМНОПРСТУФХЦЧШЩЪЫЬЭЮЯ\"\n",
        "  itog = \"\"\n",
        "  for i in message:\n",
        "    mesto = alfavit.find(i)\n",
        "    new_mesto = mesto + smeshenie\n",
        "    if i in alfavit:\n",
        "      itog += alfavit[new_mesto]\n",
        "    else:\n",
        "      itog += 1\n",
        "  return itog\n",
        "\n",
        "def print_res(res):\n",
        "  if res:\n",
        "    print(res)\n",
        "  else:\n",
        "    print(\"Что-то пошло не так\")\n",
        "\n",
        "\n"
      ],
      "metadata": {
        "id": "VCwjpxqkRfIP"
      },
      "execution_count": null,
      "outputs": []
    },
    {
      "cell_type": "code",
      "source": [
        "res=input_data()\n",
        "print_res(res)"
      ],
      "metadata": {
        "colab": {
          "base_uri": "https://localhost:8080/"
        },
        "id": "cKEvyoB5UR-B",
        "outputId": "c791a943-d3ff-4333-d53b-e2123b7f7f26"
      },
      "execution_count": null,
      "outputs": [
        {
          "output_type": "stream",
          "name": "stdout",
          "text": [
            "Шаг шифровки: 2\n",
            "Введите сообщение: АБВ\n",
            "ВГД\n"
          ]
        }
      ]
    },
    {
      "cell_type": "markdown",
      "source": [
        "№ 5.2.16\n",
        "\n",
        "Составьте две функции для возведения числа в степень: один из вариантов реализуйте в рекурсивном стиле."
      ],
      "metadata": {
        "id": "pV_z895oVaCT"
      }
    },
    {
      "cell_type": "code",
      "source": [
        "def NumPowRecursion(a, n):\n",
        "  return 1 if n == 0 else a * NumPowRecursion(a, n - 1)"
      ],
      "metadata": {
        "id": "65qw3oIcVh7p"
      },
      "execution_count": null,
      "outputs": []
    },
    {
      "cell_type": "code",
      "source": [
        "def NumPowIter(a, n):\n",
        "  res = a\n",
        "  while n - 1 > 0:\n",
        "    res = res*a\n",
        "    n -= 1\n",
        "  return res\n"
      ],
      "metadata": {
        "id": "mDODww0LVyC4"
      },
      "execution_count": null,
      "outputs": []
    },
    {
      "cell_type": "code",
      "source": [
        "import time\n",
        "a = 2\n",
        "n = 700\n",
        "start_time = time.time()\n",
        "print(NumPowRecursion(a, n), (time.time() - start_time))"
      ],
      "metadata": {
        "colab": {
          "base_uri": "https://localhost:8080/"
        },
        "id": "aZUGJpfhWGSr",
        "outputId": "cb4c6998-f221-4323-c905-3db251a58d07"
      },
      "execution_count": null,
      "outputs": [
        {
          "output_type": "stream",
          "name": "stdout",
          "text": [
            "5260135901548373507240989882880128665550339802823173859498280903068732154297080822113666536277588451226982968856178217713019432250183803863127814770651880849955223671128444598191663757884322717271293251735781376 0.001318216323852539\n"
          ]
        }
      ]
    },
    {
      "cell_type": "code",
      "source": [
        "import time \n",
        "a = 2\n",
        "n = 700\n",
        "start_time = time.time()\n",
        "print(NumPowIter(a, n), (time.time() - start_time))"
      ],
      "metadata": {
        "colab": {
          "base_uri": "https://localhost:8080/"
        },
        "id": "W8ZnimeaWqEr",
        "outputId": "869ff5f3-ca08-4ea9-978e-4ab45e3e02bc"
      },
      "execution_count": null,
      "outputs": [
        {
          "output_type": "stream",
          "name": "stdout",
          "text": [
            "5260135901548373507240989882880128665550339802823173859498280903068732154297080822113666536277588451226982968856178217713019432250183803863127814770651880849955223671128444598191663757884322717271293251735781376 0.00025725364685058594\n"
          ]
        }
      ]
    },
    {
      "cell_type": "markdown",
      "source": [
        "№ 5.2.17\n",
        "\n",
        "Дано натуральное число. Напишите рекурсивные функции для определения:\n",
        "\n",
        "• суммы цифр числа;\n",
        "\n",
        "• количества цифр в числе."
      ],
      "metadata": {
        "id": "8EzKNFK5HQ9n"
      }
    },
    {
      "cell_type": "code",
      "source": [
        "def numbers_sum(value):\n",
        "  if value == 0:\n",
        "    return 0\n",
        "  else:\n",
        "    return (value%10) + numbers_sum(value//10) \n",
        "\n",
        "\n",
        "\n",
        "def numbers_count(value):\n",
        "  if value == 1:\n",
        "    return 1\n",
        "  else:\n",
        "    return value**0 + numbers_count(value//10)"
      ],
      "metadata": {
        "id": "812K0KIuHYKF"
      },
      "execution_count": 10,
      "outputs": []
    },
    {
      "cell_type": "code",
      "source": [
        "print(numbers_sum(12345))\n",
        "print(numbers_count(12345))\n",
        "\n",
        "# --------------\n",
        "# Пример вывода:\n",
        "#\n",
        "# 15\n",
        "# 5"
      ],
      "metadata": {
        "colab": {
          "base_uri": "https://localhost:8080/"
        },
        "id": "BwkGZ2HRHgJ4",
        "outputId": "3b8522b9-2673-4e4a-a85a-aafae305850d"
      },
      "execution_count": 12,
      "outputs": [
        {
          "output_type": "stream",
          "name": "stdout",
          "text": [
            "15\n",
            "5\n"
          ]
        }
      ]
    }
  ]
}