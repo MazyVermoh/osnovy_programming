{
  "nbformat": 4,
  "nbformat_minor": 0,
  "metadata": {
    "colab": {
      "provenance": [],
      "authorship_tag": "ABX9TyN7Q5f9k9twitaun9WsafUI",
      "include_colab_link": true
    },
    "kernelspec": {
      "name": "python3",
      "display_name": "Python 3"
    },
    "language_info": {
      "name": "python"
    }
  },
  "cells": [
    {
      "cell_type": "markdown",
      "metadata": {
        "id": "view-in-github",
        "colab_type": "text"
      },
      "source": [
        "<a href=\"https://colab.research.google.com/github/MazyVermoh/osnovy_programming/blob/main/lab6.ipynb\" target=\"_parent\"><img src=\"https://colab.research.google.com/assets/colab-badge.svg\" alt=\"Open In Colab\"/></a>"
      ]
    },
    {
      "cell_type": "markdown",
      "source": [
        "6.2.1. Оценка сложности алгоритмов\n",
        "\n",
        "Для задач 6.2.1-6.2.7 ответьте на следующие вопросы:\n",
        "\n"
      ],
      "metadata": {
        "id": "gRuhqN8kjNlD"
      }
    },
    {
      "cell_type": "code",
      "execution_count": null,
      "metadata": {
        "id": "D7AhhglbirYM"
      },
      "outputs": [],
      "source": [
        "def foo(a):\n",
        "  \"\"\"\n",
        "  переменная - список\n",
        "  функция сортирует список от меньшего значения к большему\n",
        "\n",
        "  общая сложность: O(N^2)\n",
        "  \"\"\"\n",
        "    for i in range(len(a), 0, -1): # O(N) + O(1) = O(N)\n",
        "        for j in range(1, i): # O(N)\n",
        "            if a[j-1] > a[j]: # O(1) + O(1) = 2*O(1) = O(1)\n",
        "                a[j-1], a[j] = a[j], a[j-1] # O(1) + O(1) = 2*O(1) = O(1)\n",
        "    return a O(1)\n",
        "\n",
        "# O(N) * O(N) + O(1) + O(1) + O(1) = O(N^2) + 3*O(1) = O(N^2)\n",
        "\n",
        "a = [1, 2, 3, 4, 2, 1, 3, 4, 3, 5, -2, -2, 2, -2, 65, 2, 2]\n",
        "foo(a)\n"
      ]
    },
    {
      "cell_type": "markdown",
      "source": [
        "6.2.2."
      ],
      "metadata": {
        "id": "gY6ruth7ne6n"
      }
    },
    {
      "cell_type": "code",
      "source": [
        "\n",
        "def foo(i):\n",
        "    \"\"\"\n",
        "    переменная - целое число\n",
        "    функция преобразует int в str\n",
        "\n",
        "    N = 1\n",
        "    общая сложность: O(N)\n",
        "\n",
        "    \"\"\"\n",
        "    digits = \"0123456789\"  # O(1)\n",
        "    if i == 0: #2*O(1)\n",
        "        return \"0\" # O(1)\n",
        "    result = \"\" # O(1)\n",
        "    while i > 0: # O(N) + O(1) = O(N)\n",
        "        result = digits[i%10] + result # O(1) + O(1) + O(1) = O(1)\n",
        "        i = i // 10 # O(1) + O(1) = O(1)\n",
        "    return result # O(1)\n",
        "\n",
        "# O(1) + O(1) + O(N) * O(1) = 2*O(1) + O(N) = O(1) + O(N) = O(N)"
      ],
      "metadata": {
        "id": "tC0d8MZcntCj"
      },
      "execution_count": null,
      "outputs": []
    },
    {
      "cell_type": "markdown",
      "source": [
        "6.2.3."
      ],
      "metadata": {
        "id": "AbeUHcU_nghg"
      }
    },
    {
      "cell_type": "code",
      "source": [
        "\n",
        "def foo(s):\n",
        "    \"\"\"\n",
        "    переменная - строка\n",
        "    функция вытаскивает значения из строки и преобразует все цифры в целое число\n",
        "    N = len(s)\n",
        "    \"\"\"\n",
        "    val = 0 # O(1)\n",
        "    for c in s: # O(N)\n",
        "        if c.isdigit(): # O(N)\n",
        "            val += int(c) # O(1) + O(1) = O(1)\n",
        "    return val # O(1)\n",
        "\n",
        "# O(1) + O(N) * O(N) * O(1) = O(N^2)"
      ],
      "metadata": {
        "id": "kC0Ez6S5nt6j"
      },
      "execution_count": null,
      "outputs": []
    },
    {
      "cell_type": "markdown",
      "source": [
        "6.2.4."
      ],
      "metadata": {
        "id": "HeeGUFAAnhvF"
      }
    },
    {
      "cell_type": "code",
      "source": [
        "\n",
        "def foo(n):\n",
        "    \"\"\"\n",
        "    переменная - целое число\n",
        "    функция находит все простые числа от 0 до указанного значения\n",
        "    N = 1\n",
        "    \"\"\"\n",
        "    res = [] # O(1)\n",
        "    for i in range(1, n + 1): # O(N) + O(1) = O(N)\n",
        "        divisors = 0 # O(1)\n",
        "        j = 2 #O(1)\n",
        "        while j < i and divisors == 0: # O(N) + O(1) + O(1) = O(N) + 2*O(1) = O(N)\n",
        "            if i % j == 0: # O(1) + O(1) = 2*O(1) = O(1)\n",
        "                divisors += 1 # O(1)\n",
        "            j += 1 # O(1)\n",
        "\n",
        "        if divisors == 0: # O(1) + O(1) = 2*O(1) = O(1)\n",
        "            res.append(i) # O(1)\n",
        "\n",
        "    return res # O(1)\n",
        "\n",
        "# O(1) + O(N) * (2*O(1) + O(N) * 2*O(1) * O(1)) = O(N^2)"
      ],
      "metadata": {
        "id": "GVHeTfiVnuTZ"
      },
      "execution_count": null,
      "outputs": []
    },
    {
      "cell_type": "markdown",
      "source": [
        "6.2.5."
      ],
      "metadata": {
        "id": "4d0rj5Gpnipb"
      }
    },
    {
      "cell_type": "code",
      "source": [
        "def foo(nums):\n",
        "    \"\"\"\n",
        "    переменная - список\n",
        "    проверяет список на наличие четных цифр внутри него\n",
        "  \n",
        "    N = len(nums)\n",
        "    общая сложность: O(N)\n",
        "    \"\"\"\n",
        "    for x in nums: # O(N)\n",
        "        if x % 2 == 0: # O(1) + O(1) = 2*O(1) = O(1)\n",
        "            return True # O(1)\n",
        "    else: \n",
        "        return False #O(1)\n",
        "\n",
        "# O(N) * O(1) * O(1) = O(N)"
      ],
      "metadata": {
        "id": "nbaDYir_nuy1"
      },
      "execution_count": null,
      "outputs": []
    },
    {
      "cell_type": "markdown",
      "source": [
        "6.2.6."
      ],
      "metadata": {
        "id": "5cF3gIzDnkJm"
      }
    },
    {
      "cell_type": "code",
      "source": [
        "\n",
        "def foo(nums):\n",
        "    \"\"\"\n",
        "    переменная - список\n",
        "    выводит сумму первого значения списка и последнего, в квадрате\n",
        "\n",
        "    N = len(nums)\n",
        "    общая сложность: O(1)\n",
        "    \"\"\"\n",
        "    return (nums[0] + nums[-1] ** 2) # O(1) + O(1) = 2*O(1) = O(1)\n",
        "\n",
        "# O(1) + O(1) = 2*O(1) = O(1)"
      ],
      "metadata": {
        "id": "-v8JGdQNnvzf"
      },
      "execution_count": null,
      "outputs": []
    },
    {
      "cell_type": "markdown",
      "source": [
        "6.2.7."
      ],
      "metadata": {
        "id": "MEKSsMtKnlPz"
      }
    },
    {
      "cell_type": "code",
      "source": [
        "def foo(low, high):\n",
        "    \"\"\"\n",
        "    вводный переменные - целые числа\n",
        "    угадывает веденное число пользователя\n",
        "\n",
        "    N = 2\n",
        "    общая сложность: O(N)\n",
        "    \"\"\"\n",
        "    guessing = True \n",
        "    while guessing:\n",
        "        guess = (low + high) // 2\n",
        "        print(\"Загаданное число {0}?\".format(guess))\n",
        "        pointer = input(\n",
        "            \"Введите '+', если Ваше число меньше.\\n\"\n",
        "            \"Введите '-' если Ваше число больше.\\n\"\n",
        "            \"Введите '=', если я угадал.\\n\").lower()\n",
        "        if pointer == \"+\":\n",
        "            high = guess\n",
        "        elif pointer == \"-\":\n",
        "            low = guess\n",
        "        elif pointer == \"=\":\n",
        "            guessing = False\n",
        "        else:\n",
        "            print(\"Введите '+', '-' или '='.\")\n",
        "\n",
        "    return guess\n",
        "\n",
        "\n",
        "# ЗАКОММЕНТИРУЙТЕ этот код перед запуском проверки\n",
        "# low, high = 0, 100\n",
        "# print(\"Пожалуйста, загадайте число от {0} до {1}!\".format(low, high))\n",
        "# guess = foo(low, high)\n",
        "# print(\"Игра окончена, Вы загадали число: {0}.\".format(guess))\n"
      ],
      "metadata": {
        "id": "ceyS3vL1nwKZ"
      },
      "execution_count": null,
      "outputs": []
    }
  ]
}