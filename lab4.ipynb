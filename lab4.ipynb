{
  "nbformat": 4,
  "nbformat_minor": 0,
  "metadata": {
    "colab": {
      "provenance": [],
      "collapsed_sections": [],
      "authorship_tag": "ABX9TyMrX0vLfbnvuZJIdyZO9MLL",
      "include_colab_link": true
    },
    "kernelspec": {
      "name": "python3",
      "display_name": "Python 3"
    },
    "language_info": {
      "name": "python"
    }
  },
  "cells": [
    {
      "cell_type": "markdown",
      "metadata": {
        "id": "view-in-github",
        "colab_type": "text"
      },
      "source": [
        "<a href=\"https://colab.research.google.com/github/MazyVermoh/osnovy_programming/blob/main/lab4.ipynb\" target=\"_parent\"><img src=\"https://colab.research.google.com/assets/colab-badge.svg\" alt=\"Open In Colab\"/></a>"
      ]
    },
    {
      "cell_type": "markdown",
      "source": [
        "№ 4.2.1\n",
        "\n",
        "Рассчитать значение f при заданном значении вещественного числа x:\n",
        "\n",
        "![696DAE31-2D19-4171-8A8D-D35BB41A9303.png](data:image/png;base64,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)"
      ],
      "metadata": {
        "id": "_shtgtLquSu6"
      }
    },
    {
      "cell_type": "code",
      "source": [
        "x = int(input())\n",
        "\n",
        "if x >= 0:\n",
        "    f = (x**(1/2))+(x**2)\n",
        "else:\n",
        "    f = 1/x\n",
        "\n",
        "print('Получившийся результат: ', round(f, 2))\n",
        "\n",
        "# --------------\n",
        "# Пример вывода:\n",
        "#\n",
        "# Введите число x: -10\n",
        "# f = -0.10\n",
        "\n",
        "# Введите число x: 0\n",
        "# f = 0.00\n",
        "\n",
        "# Введите число x: 10\n",
        "# f = 103.16"
      ],
      "metadata": {
        "colab": {
          "base_uri": "https://localhost:8080/"
        },
        "id": "be_kQ6PJuE3Y",
        "outputId": "09e6dddf-72ee-469a-e04f-7938f4cd1a72"
      },
      "execution_count": 2,
      "outputs": [
        {
          "output_type": "stream",
          "name": "stdout",
          "text": [
            "10\n",
            "Получившийся результат:  103.16\n"
          ]
        }
      ]
    },
    {
      "cell_type": "markdown",
      "source": [
        "№ 4.2.2\n",
        "\n",
        "Определите максимальное и минимальное значения из двух различных целых чисел."
      ],
      "metadata": {
        "id": "s828MwM5uvD1"
      }
    },
    {
      "cell_type": "code",
      "source": [
        "a1 = int(input('Введите первое целое число. '))\n",
        "a2 = int(input('Введите второе целое число. ' ))\n",
        "\n",
        "if a1 == a2:\n",
        "    print('Числа одинаковы.')\n",
        "else:\n",
        "    if a1 > a2:\n",
        "        print('Максимум: ', a1, 'Минимум: ', a2)\n",
        "    else:\n",
        "        print('Максимум: ', a2, 'Минимум: ', a1)\n",
        "\n",
        "# --------------\n",
        "# Пример вывода:\n",
        "#\n",
        "# Введите первое число: 4\n",
        "# Введите второе число: 5\n",
        "# Максимум: 4, минимум: 5\n",
        "\n",
        "# Введите первое число: 7\n",
        "# Введите второе число: 7\n",
        "# Максимум:  7, минимум: 7\n",
        "\n",
        "# Введите первое число: 242\n",
        "# Введите второе число: -6\n",
        "# Максимум: 242, минимум: -6"
      ],
      "metadata": {
        "colab": {
          "base_uri": "https://localhost:8080/"
        },
        "id": "lb9oWDkIuyi6",
        "outputId": "2cceabc4-3ab6-4a34-8906-39f57d5abe5f"
      },
      "execution_count": 3,
      "outputs": [
        {
          "output_type": "stream",
          "name": "stdout",
          "text": [
            "Введите первое целое число. 4\n",
            "Введите второе целое число. 5\n",
            "Максимум:  5 Минимум:  4\n"
          ]
        }
      ]
    },
    {
      "cell_type": "markdown",
      "source": [
        "№ 4.2.3\n",
        "\n",
        "Вася пытается высунуть голову в форточку размерами a и b см. Приняв условно, что его голова - круглая диаметром d см, определите, сможет ли Вася сделать это. Для прохождения головы в форточку необходим зазор в 1 см. с каждой стороны."
      ],
      "metadata": {
        "id": "BF9U6fG6vO1O"
      }
    },
    {
      "cell_type": "code",
      "source": [
        "a = int(input('Введите значение ширины форточки: '))\n",
        "h = int(input('Введите значение высоты форточки: '))\n",
        "d = int(input('Введите значение диаметра головы мальчика: '))\n",
        "\n",
        "if ((a or h or d) < 0):\n",
        "    print('Ошибка. Невозможно выполнить скрипт. Вы ввели отрицательное значение.')\n",
        "else:\n",
        "    if ((a-1>=d) and (h-1>=d)):\n",
        "        print('Да.')\n",
        "    else:\n",
        "        print('Нет.')\n",
        "\n",
        "# --------------\n",
        "# Пример вывода:\n",
        "#\n",
        "# Ширина форточки: 5\n",
        "# Высота форточки: 6\n",
        "# Диаметр головы: 6\n",
        "# Нет\n",
        "\n",
        "# Ширина форточки: 6\n",
        "# Высота форточки: 7\n",
        "# Диаметр головы: 4\n",
        "# Да"
      ],
      "metadata": {
        "colab": {
          "base_uri": "https://localhost:8080/"
        },
        "id": "wZUZDzFrvVPh",
        "outputId": "f7a1ebe0-3ad6-4935-8e69-8600c10109ca"
      },
      "execution_count": 4,
      "outputs": [
        {
          "output_type": "stream",
          "name": "stdout",
          "text": [
            "Введите значение ширины форточки: 5\n",
            "Введите значение высоты форточки: 6\n",
            "Введите значение диаметра головы мальчика: 6\n",
            "Нет.\n"
          ]
        }
      ]
    },
    {
      "cell_type": "markdown",
      "source": [
        "№ 4.2.4\n",
        "\n",
        "Известны год и номер месяца сегодняшнего дня, а также год и номер месяца рождения человека (нумерация месяцев с 1: январь - 1 и т.д.). Определите возраст человека (число полных лет)."
      ],
      "metadata": {
        "id": "W4bDzLJUvyLE"
      }
    },
    {
      "cell_type": "code",
      "source": [
        "y_today = int(input('Введите текущий год: '))\n",
        "m_today = int(input('Введите текущий месяц: '))\n",
        "\n",
        "y_need = int(input('Введите год рождения: '))\n",
        "m_need = int(input('Введите месяц рождения: '))\n",
        "\n",
        "age = y_today-y_need\n",
        "\n",
        "if (m_today or m_need)<=0:\n",
        "    print('Нельзя выполнить скрипт.')\n",
        "else:\n",
        "    if m_need>m_today:\n",
        "        print('Число полных лет:', age-1)\n",
        "    else:\n",
        "        print('Число полных лет:', age)\n",
        "\n",
        "# --------------\n",
        "# Пример вывода:\n",
        "#\n",
        "# Введите текущий год: 2017\n",
        "# Введите текущий месяц: 5\n",
        "# Введите год рождения: 2000\n",
        "# Введите месяц рождения: 1\n",
        "# Число полных лет:  17\n",
        "#\n",
        "# Введите текущий год: 2015\n",
        "# Введите текущий месяц: 6\n",
        "# Введите год рождения: 2010\n",
        "# Введите месяц рождения: 8\n",
        "# Число полных лет:  4\n",
        "#\n",
        "# Введите текущий год: 2020\n",
        "# Введите текущий месяц: 5\n",
        "# Введите год рождения: 2000\n",
        "# Введите месяц рождения: 5\n",
        "# Число полных лет:  20"
      ],
      "metadata": {
        "colab": {
          "base_uri": "https://localhost:8080/"
        },
        "id": "VM_C7Xlqv0l0",
        "outputId": "8e4957f4-2ac3-4c2c-f870-11e3363572d2"
      },
      "execution_count": 5,
      "outputs": [
        {
          "output_type": "stream",
          "name": "stdout",
          "text": [
            "Введите текущий год: 2017\n",
            "Введите текущий месяц: 5\n",
            "Введите год рождения: 2000\n",
            "Введите месяц рождения: 1\n",
            "Число полных лет: 17\n"
          ]
        }
      ]
    },
    {
      "cell_type": "markdown",
      "source": [
        "№ 4.2.6\n",
        "\n",
        "Даны вещественные числа a, b, c (a≠0).\n",
        "\n",
        "Решите уравнение ax^2+bx+c=0. При выводе значений оставьте 1 знак после запятой."
      ],
      "metadata": {
        "id": "qT2-dw0qwQSh"
      }
    },
    {
      "cell_type": "code",
      "source": [
        "a = float(input('Введите значение a: '))\n",
        "b = float(input('Введите значение b: '))\n",
        "c = float(input('Введите значение c: '))\n",
        "\n",
        "d = ((b**2)-(4*a*c))\n",
        "if d<0:\n",
        "    print('Решений нет.')\n",
        "elif d==0:\n",
        "    x1 = ((-1*b)/2*a)\n",
        "    print('x = ', x1)\n",
        "elif d>0:\n",
        "    x2 = (((-1*b)+(d**(1/2)))/2*a)\n",
        "    x1 = (((-1*b)-(d**(1/2)))/2*a)\n",
        "    print('x1 =',x1,'x2 =',x2)\n",
        "\n",
        "# --------------\n",
        "# Пример вывода:\n",
        "#\n",
        "# a = 1\n",
        "# b = 2\n",
        "# c = 3\n",
        "# Решений нет\n",
        "#\n",
        "# a = 1\n",
        "# b = 2\n",
        "# c = 1\n",
        "# x = -1.0\n",
        "#\n",
        "# a = 1\n",
        "# b = 3\n",
        "# c = -4\n",
        "# x1 = -4.0, x2 = 1.0"
      ],
      "metadata": {
        "colab": {
          "base_uri": "https://localhost:8080/"
        },
        "id": "ZZq-BRrkwex-",
        "outputId": "7e944851-6dcd-4ec0-e078-272ef17c49d3"
      },
      "execution_count": 8,
      "outputs": [
        {
          "output_type": "stream",
          "name": "stdout",
          "text": [
            "Введите значение a: 1\n",
            "Введите значение b: 2\n",
            "Введите значение c: 3\n",
            "Решений нет.\n"
          ]
        }
      ]
    },
    {
      "cell_type": "markdown",
      "source": [
        "№ 4.2.7\n",
        "\n",
        "Дана непустая последовательность целых чисел, оканчивающаяся нулем. Найти сумму и количество введенных чисел."
      ],
      "metadata": {
        "id": "H6F3DW23w-RK"
      }
    },
    {
      "cell_type": "code",
      "source": [
        "x = int(input('Введите первое целое число: '))\n",
        "n = list()\n",
        "\n",
        "while x!=0:\n",
        "    n.append(x)\n",
        "    x = int(input('Введите дополнительное число: '))\n",
        "\n",
        "print('Количество = ', len(n))\n",
        "print('Сумма = ',sum(n))\n",
        "\n",
        "# --------------\n",
        "# Пример вывода:\n",
        "#\n",
        "# Введите 1-е число: 1\n",
        "# Введите 2-е число: 2\n",
        "# Введите 3-е число: 3\n",
        "# Введите 4-е число: 4\n",
        "# Введите 5-е число: 0\n",
        "# Сумма = 10\n",
        "# Количество = 4\n",
        "#\n",
        "# Введите 1-е число: 0\n",
        "# Сумма = 0\n",
        "# Количество = 0"
      ],
      "metadata": {
        "colab": {
          "base_uri": "https://localhost:8080/"
        },
        "id": "voJf5-oWxEq5",
        "outputId": "98177215-0f47-4b83-fe48-50112bc01159"
      },
      "execution_count": 7,
      "outputs": [
        {
          "output_type": "stream",
          "name": "stdout",
          "text": [
            "Введите первое целое число: 1\n",
            "Введите дополнительное число: 2\n",
            "Введите дополнительное число: 3\n",
            "Введите дополнительное число: 4\n",
            "Введите дополнительное число: 0\n",
            "Количество =  4\n",
            "Сумма =  10\n"
          ]
        }
      ]
    },
    {
      "cell_type": "markdown",
      "source": [
        "№ 4.2.8\n",
        "\n",
        "Дано число n. Из чисел 0,5,10,15,20,25,... напечатать те, которые не превышают n."
      ],
      "metadata": {
        "id": "uZXgFqCTx1WS"
      }
    },
    {
      "cell_type": "code",
      "source": [
        "n = int(input('Введите число n: '))\n",
        "\n",
        "x = 0\n",
        "print('0')\n",
        "\n",
        "while x<=n:\n",
        "    x = x+5\n",
        "    if x<n:\n",
        "      print(x)\n",
        "    else:\n",
        "      break\n",
        "\n",
        "# --------------\n",
        "# Пример вывода:\n",
        "#\n",
        "# n = 0\n",
        "# 0\n",
        "#\n",
        "# n = 10\n",
        "# 0\n",
        "# 5\n",
        "# 10\n",
        "#\n",
        "# n = 12\n",
        "# 0\n",
        "# 5\n",
        "# 10"
      ],
      "metadata": {
        "colab": {
          "base_uri": "https://localhost:8080/"
        },
        "id": "EUuFTr7ux7CY",
        "outputId": "f669cf5e-cdf8-40be-dbeb-39294e50d95f"
      },
      "execution_count": 10,
      "outputs": [
        {
          "output_type": "stream",
          "name": "stdout",
          "text": [
            "Введите число n: 12\n",
            "0\n",
            "5\n",
            "10\n"
          ]
        }
      ]
    },
    {
      "cell_type": "markdown",
      "source": [
        "№ 4.2.10\n",
        "\n",
        "Дано натуральное число. Определите сумму и количество его цифр."
      ],
      "metadata": {
        "id": "IaP_c9Cezbl-"
      }
    },
    {
      "cell_type": "code",
      "source": [
        "y = list(map(int, input('Введите целое натуральное число: '))) #Вводим переменную с целым натуральным значением.\n",
        "\n",
        "#Map использует каждый элемент введенного числа.\n",
        "#List создает список.\n",
        "\n",
        "y_sum = sum(y) #Складываю все элементы списка\n",
        "y_count = len(y) #Рассчитываю количество элементов в списке\n",
        "\n",
        "print('Сумма: ', y_sum)\n",
        "print('Количество: ', y_count)\n",
        "\n",
        "# --------------\n",
        "# Пример вывода:\n",
        "#\n",
        "# n = 12345\n",
        "# Сумма = 15\n",
        "# Количество = 5"
      ],
      "metadata": {
        "colab": {
          "base_uri": "https://localhost:8080/"
        },
        "id": "Bh8qXjfvztc6",
        "outputId": "4ddc7efd-dfe6-4d72-a26a-8c26356341fd"
      },
      "execution_count": 12,
      "outputs": [
        {
          "output_type": "stream",
          "name": "stdout",
          "text": [
            "Введите целое натуральное число: 12345\n",
            "Сумма:  15\n",
            "Количество:  5\n"
          ]
        }
      ]
    },
    {
      "cell_type": "markdown",
      "source": [
        "№ 4.2.15\n",
        "\n",
        "Известна масса каждого предмета в кг., загружаемого в грузовик. Определить, возможна ли перевозка груза, если грузоподъемность грузовика равна p кг."
      ],
      "metadata": {
        "id": "vwLZtp6y0KJw"
      }
    },
    {
      "cell_type": "code",
      "source": [
        "p = int(input('Введите грузоподъемность грузовика (кг.): '))\n",
        "y = int(input('Введите количество предметов (шт.): '))\n",
        "\n",
        "amount = list() #Ввожу список, чтобы суммировать его.\n",
        "for x in range(y):\n",
        "    f = int(input('Введите массу предмета (кг.): '))\n",
        "    amount.append(f)\n",
        "\n",
        "if sum(amount)>=p: #Ввожу проверку данных через if-else\n",
        "    print('Нет.')\n",
        "else:\n",
        "    print('Да.')\n",
        "\n",
        "# --------------\n",
        "# Пример вывода:\n",
        "#\n",
        "# Грузоподъемность грузовика (кг.) = 10\n",
        "# Количество предметов = 2\n",
        "# Масса 1-го предмета (кг.) = 3\n",
        "# Масса 2-го предмета (кг.) = 3\n",
        "# Да"
      ],
      "metadata": {
        "colab": {
          "base_uri": "https://localhost:8080/"
        },
        "id": "dGV6V4S90e-W",
        "outputId": "01ae3592-0313-493a-accb-4049f4fc71dc"
      },
      "execution_count": 13,
      "outputs": [
        {
          "output_type": "stream",
          "name": "stdout",
          "text": [
            "Введите грузоподъемность грузовика (кг.): 10\n",
            "Введите количество предметов (шт.): 2\n",
            "Введите массу предмета (кг.): 3\n",
            "Введите массу предмета (кг.): 3\n",
            "Да.\n"
          ]
        }
      ]
    },
    {
      "cell_type": "markdown",
      "source": [
        "№ 4.2.16\n",
        "\n",
        "В области несколько районов. Заданы площади, засеваемые пшеницей (га.), и средняя урожайность (ц/га) в каждом районе.\n",
        "\n",
        "Определите количество пшеницы, собранное по области. При выводе вещественных результатов оставьте один знак после запятой."
      ],
      "metadata": {
        "id": "me8mJwNW1ecN"
      }
    },
    {
      "cell_type": "code",
      "source": [
        "y = int(input('Введите количество районов: '))\n",
        "\n",
        "total = list() #Вводим список для подсчета суммы собранной пшеницы в конце.\n",
        "for x in range(y):\n",
        "    s = float(input('Введите площадь района (га): ')) #Вводим пару вещественных чисел, как было написано в совете.\n",
        "    p = float(input('Введите урожайность в районе (ц/га.): ')) \n",
        "    g = p*s\n",
        "    total.append(g)\n",
        "\n",
        "print(round(sum(total), 1))\n",
        "\n",
        "# --------------\n",
        "# Пример вывода:\n",
        "#\n",
        "# Количество районов = 3\n",
        "# Площадь 1-го района (га) = 4\n",
        "# Урожайность в 1-м районе (ц/га.) = 2\n",
        "# Площадь 2-го района (га) = 7\n",
        "# Урожайность в 2-м районе (ц/га.) = 3\n",
        "# Площадь 3-го района (га) = 9\n",
        "# Урожайность в 3-м районе (ц/га.) = 4\n",
        "# Собрано пшеницы: 65.0 ц."
      ],
      "metadata": {
        "colab": {
          "base_uri": "https://localhost:8080/"
        },
        "id": "kCA4J_11141a",
        "outputId": "80798524-1fb6-435b-db74-65e413bfe201"
      },
      "execution_count": 14,
      "outputs": [
        {
          "output_type": "stream",
          "name": "stdout",
          "text": [
            "Введите количество районов: 3\n",
            "Введите площадь района (га): 4\n",
            "Введите урожайность в районе (ц/га.): 2\n",
            "Введите площадь района (га): 7\n",
            "Введите урожайность в районе (ц/га.): 3\n",
            "Введите площадь района (га): 9\n",
            "Введите урожайность в районе (ц/га.): 4\n",
            "65.0\n"
          ]
        }
      ]
    },
    {
      "cell_type": "markdown",
      "source": [
        "№ 4.2.17\n",
        "\n",
        "Решите задачу № 4.2.7, организовав бесконечный цикл, который бы прерывался при выполнении условия, используя оператор break.\n",
        "\n",
        "№ 4.2.7\n",
        "\n",
        "Дана непустая последовательность целых чисел, оканчивающаяся нулем. Найти сумму и количество введенных чисел."
      ],
      "metadata": {
        "id": "OtN3LUHB3v6T"
      }
    },
    {
      "cell_type": "code",
      "source": [
        "nums_sum = 0  #сумма\n",
        "nums_count = 0  #кол-во\n",
        "\n",
        "x = int(input('Введите число. '))\n",
        "y = list()\n",
        "\n",
        "while x!=0:\n",
        "    nums_count = nums_count+1\n",
        "    y.append(x)\n",
        "    nums_sum = nums_sum+x\n",
        "    x = int(input('Введите новое число. '))\n",
        "    if x==0:\n",
        "        break\n",
        "\n",
        "print('Сумма = ', nums_sum)\n",
        "print('Количество = ',nums_count)\n",
        "\n",
        "# --------------\n",
        "# Пример вывода:\n",
        "#\n",
        "# Введите 1-е число: 1\n",
        "# Введите 2-е число: 2\n",
        "# Введите 3-е число: 3\n",
        "# Введите 4-е число: 4\n",
        "# Введите 5-е число: 0\n",
        "# Сумма = 10\n",
        "# Количество = 4\n",
        "#\n",
        "# Введите 1-е число: 0\n",
        "# Сумма = 0\n",
        "# Количество = 0"
      ],
      "metadata": {
        "colab": {
          "base_uri": "https://localhost:8080/"
        },
        "id": "GujCK5eF4Eoc",
        "outputId": "a286cae4-6060-43b8-c4b0-3034096cf1e3"
      },
      "execution_count": 17,
      "outputs": [
        {
          "output_type": "stream",
          "name": "stdout",
          "text": [
            "Введите число. 1\n",
            "Введите новое число. 2\n",
            "Введите новое число. 3\n",
            "Введите новое число. 4\n",
            "Введите новое число. 0\n",
            "Сумма =  10\n",
            "Количество =  4\n"
          ]
        }
      ]
    },
    {
      "cell_type": "markdown",
      "source": [
        "№ 4.2.18\n",
        "\n",
        "Предложение, введенное с клавиатуры, содержит слова из гласных и согласных букв кириллицы (регистр может быть различный), а также пробелы.\n",
        "\n",
        "Определите количество гласных и согласных букв в предложении. Для пропуска пробелов используйте оператор continue."
      ],
      "metadata": {
        "id": "OPe0ncQ56Vt9"
      }
    },
    {
      "cell_type": "code",
      "source": [
        "sentence = input('Введите предложение: ')\n",
        "\n",
        "gl = 0  # Кол-во гласных\n",
        "sogl = 0  # Кол-во согласных\n",
        "probel = 0\n",
        "\n",
        "for x in sentence: # Ввожу доп.условие на гласные в основном условии и согласные в else\n",
        "    sth = x.lower()\n",
        "    if sth == \"а\" or sth == \"я\" or sth == \"у\" or\\\n",
        "      sth == \"ю\" or sth == \"о\" or sth == \"е\" or\\\n",
        "      sth == \"ё\" or sth == \"э\" or sth == \"и\" or\\\n",
        "      sth == \"ы\":\n",
        "      gl += 1\n",
        "    elif sth == \" \":\n",
        "      probel += 1\n",
        "    else:\n",
        "      sogl += 1\n",
        "\n",
        "s1 = \"Гласных\"\n",
        "s2 = \"Согласных\"\n",
        "print('Кол-во букв в предложении: ', \"{} {}, {} {}\".format(s1, gl, s2, sogl))\n",
        "\n",
        "# --------------\n",
        "# Пример вывода:\n",
        "#\n",
        "# Введите предложение: Программирование\n",
        "# Кол-во букв в предложении: гласных - 7, согласных - 9"
      ],
      "metadata": {
        "colab": {
          "base_uri": "https://localhost:8080/"
        },
        "id": "4r8aZE9g6n3E",
        "outputId": "5bbb1352-92d2-47fc-d9ea-f7b8c700dbba"
      },
      "execution_count": 18,
      "outputs": [
        {
          "output_type": "stream",
          "name": "stdout",
          "text": [
            "Введите предложение: Программирование \n",
            "Кол-во букв в предложении:  Гласных 7, Согласных 9\n"
          ]
        }
      ]
    },
    {
      "cell_type": "markdown",
      "source": [
        "№ 4.2.19\n",
        "\n",
        "Выведите на экран (в строку) все целые числа от a до b, кратные некоторому числу c."
      ],
      "metadata": {
        "id": "VsBeq4mn6vuo"
      }
    },
    {
      "cell_type": "code",
      "source": [
        "a = int(input(\"Введите первое число: \"))\n",
        "b = int(input(\"Введите второе число: \"))\n",
        "c = int(input(\"Введите третье число: \"))\n",
        "\n",
        "g = list()\n",
        "\n",
        "for y in range(a,b+1):\n",
        "    if y%c==0:\n",
        "        g.append(y)\n",
        "\n",
        "print(g)\n",
        "\n",
        "\n",
        "# --------------\n",
        "# Пример вывода:\n",
        "#\n",
        "# a = 1\n",
        "# b = 10\n",
        "# c = 2\n",
        "# 2 4 6 8 10"
      ],
      "metadata": {
        "colab": {
          "base_uri": "https://localhost:8080/"
        },
        "id": "okYwhSVe67pL",
        "outputId": "636189ea-b8e4-4b5c-d07e-4c74d28c678b"
      },
      "execution_count": 19,
      "outputs": [
        {
          "output_type": "stream",
          "name": "stdout",
          "text": [
            "Введите первое число: 1\n",
            "Введите второе число: 10\n",
            "Введите третье число: 2\n",
            "[2, 4, 6, 8, 10]\n"
          ]
        }
      ]
    },
    {
      "cell_type": "markdown",
      "source": [
        "№ 4.2.20\n",
        "\n",
        "Выведите на экран (в строку) все трехзначные натуральные числа, сумма цифр которых равна целому числу n (0<n≤27)."
      ],
      "metadata": {
        "id": "YnasqPgC7O3I"
      }
    },
    {
      "cell_type": "code",
      "source": [
        "n = int(input('Введите число: '))\n",
        "\n",
        "g = list()\n",
        "\n",
        "for x in range(100, 1000): #Проверка 3-значных чисел от 100 до 999 включительно\n",
        "    a = sum(int(e) for e in str(x))\n",
        "    if a==n:\n",
        "        g.append(x)\n",
        "\n",
        "print(g)\n",
        "\n",
        "# --------------\n",
        "# Пример вывода:\n",
        "#\n",
        "# n = 3\n",
        "# 102 111 120 201 210 300"
      ],
      "metadata": {
        "colab": {
          "base_uri": "https://localhost:8080/"
        },
        "id": "0d6nrs3M7VpX",
        "outputId": "0ee4dc84-e400-4518-85e9-f677809fca94"
      },
      "execution_count": 20,
      "outputs": [
        {
          "output_type": "stream",
          "name": "stdout",
          "text": [
            "Введите число: 3\n",
            "[102, 111, 120, 201, 210, 300]\n"
          ]
        }
      ]
    },
    {
      "cell_type": "markdown",
      "source": [
        "№ 4.2.21\n",
        "\n",
        "Известно количество учеников в классе и их рост (см.); рост мальчиков условно задан отрицательными числами. Определите средний рост мальчиков и средний рост девочек.\n",
        "\n",
        "При выводе вещественных результатов оставьте один знак после запятой."
      ],
      "metadata": {
        "id": "aKvyx1eU7dCt"
      }
    },
    {
      "cell_type": "code",
      "source": [
        "n = int(input('Введите количество учеников: '))\n",
        "\n",
        "a = 0\n",
        "b = 0\n",
        "c = 0\n",
        "f = 1\n",
        "\n",
        "for x in range(n):\n",
        "    rost = int(input('Введите значение роста ученика: '))\n",
        "    f += 1\n",
        "    if rost<0:\n",
        "        a += 1\n",
        "        b -= rost\n",
        "    else:\n",
        "        c += rost\n",
        "\n",
        "r_sr_m = b / a\n",
        "r_sr_d = c / (n - a)\n",
        "\n",
        "print(\"Средний рост мальчиков: {:.1f}\".format(r_sr_m))\n",
        "print(\"Средний рост девочек: {:.1f}\".format(r_sr_d))\n",
        "\n",
        "# --------------\n",
        "# Пример вывода:\n",
        "#\n",
        "# n = 5\n",
        "# Рост 1-го ученика = 150\n",
        "# Рост 2-го ученика = -150\n",
        "# Рост 3-го ученика = 160\n",
        "# Рост 4-го ученика = 170\n",
        "# Рост 5-го ученика = 180\n",
        "# Средний рост мальчиков: 150.0\n",
        "# Средний рост девочек: 165.0"
      ],
      "metadata": {
        "colab": {
          "base_uri": "https://localhost:8080/"
        },
        "id": "LtiW3oYa726W",
        "outputId": "b817b48f-5df1-42c9-9327-d1121c00b1cf"
      },
      "execution_count": 22,
      "outputs": [
        {
          "output_type": "stream",
          "name": "stdout",
          "text": [
            "Введите количество учеников: 5\n",
            "Введите значение роста ученика: 150\n",
            "Введите значение роста ученика: -150\n",
            "Введите значение роста ученика: 160\n",
            "Введите значение роста ученика: 170\n",
            "Введите значение роста ученика: 180\n",
            "Средний рост мальчиков: 150.0\n",
            "Средний рост девочек: 165.0\n"
          ]
        }
      ]
    },
    {
      "cell_type": "markdown",
      "source": [
        "№ 4.2.24\n",
        "\n",
        "Дано n вещественных чисел. Определите, является ли последовательность упорядоченной по возрастанию. В случае отрицательного ответа выведите порядковый номер числа, нарушающего такую упорядоченность."
      ],
      "metadata": {
        "id": "s8TAhJjv8h2E"
      }
    },
    {
      "cell_type": "code",
      "source": [
        "n = int(input('Введите количество чисел: '))\n",
        "g = []\n",
        "\n",
        "for x in range(1, n+1):\n",
        "  a = float(input(f'{x}-е число = '))\n",
        "  g.append(a)\n",
        "\n",
        "f = bool()\n",
        "for x in range(1,n):\n",
        "  if g[x-1] >=g[x]:\n",
        "    f = False\n",
        "    break\n",
        "  else:\n",
        "    f = True\n",
        "if f == True:\n",
        "  print('Является')\n",
        "else:\n",
        "  print(x)\n",
        "\n",
        "# --------------\n",
        "# Пример вывода:\n",
        "#\n",
        "# n = 4\n",
        "# 1-е число = 2\n",
        "# 2-е число = 4.6\n",
        "# 3-е число = 6\n",
        "# 4-е число = 8.3\n",
        "# Является\n",
        "#\n",
        "# n = 3\n",
        "# 1-е число = 3\n",
        "# 2-е число = 3\n",
        "# 2"
      ],
      "metadata": {
        "colab": {
          "base_uri": "https://localhost:8080/"
        },
        "id": "y4MR0zuW8pMl",
        "outputId": "22eeef2b-76be-46b5-ffde-6a551d301057"
      },
      "execution_count": 24,
      "outputs": [
        {
          "output_type": "stream",
          "name": "stdout",
          "text": [
            "Введите количество чисел: 4\n",
            "1-е число = 2\n",
            "2-е число = 4.6\n",
            "3-е число = 6\n",
            "4-е число = 8.3\n",
            "Является\n"
          ]
        }
      ]
    },
    {
      "cell_type": "markdown",
      "source": [
        "№ 4.2.25\n",
        "\n",
        "Выведите на экран таблицу умножения на 𝑛\n",
        "n\n",
        " (2<𝑛≤9\n",
        "2\n",
        "<\n",
        "n\n",
        "≤\n",
        "9\n",
        ") в виде:"
      ],
      "metadata": {
        "id": "MRbsG1Q_9e7g"
      }
    },
    {
      "cell_type": "code",
      "source": [
        "n = int(input('Введите целое число: '))\n",
        "\n",
        "for x in range(1, n+1):\n",
        "    for y in range(1, n+1):\n",
        "        print(f'{x} * {y} = {x * y}\\t', end=' ')\n",
        "    print('')\n",
        "# --------------\n",
        "# Пример вывода:\n",
        "#\n",
        "# n = 5\n",
        "# 1 * 1 =  1  1 * 2 =  2  1 * 3 =  3  1 * 4 =  4  1 * 5 =  5\n",
        "# 2 * 1 =  2  2 * 2 =  4  2 * 3 =  6  2 * 4 =  8  2 * 5 = 10\n",
        "# 3 * 1 =  3  3 * 2 =  6  3 * 3 =  9  3 * 4 = 12  3 * 5 = 15\n",
        "# 4 * 1 =  4  4 * 2 =  8  4 * 3 = 12  4 * 4 = 16  4 * 5 = 20\n",
        "# 5 * 1 =  5  5 * 2 = 10  5 * 3 = 15  5 * 4 = 20  5 * 5 = 25"
      ],
      "metadata": {
        "colab": {
          "base_uri": "https://localhost:8080/"
        },
        "id": "58zyRFqU9no8",
        "outputId": "74d979c8-dc1e-4535-a92b-1b27167e6331"
      },
      "execution_count": 27,
      "outputs": [
        {
          "output_type": "stream",
          "name": "stdout",
          "text": [
            "Введите целое число: 8\n",
            "1 * 1 = 1\t 1 * 2 = 2\t 1 * 3 = 3\t 1 * 4 = 4\t 1 * 5 = 5\t 1 * 6 = 6\t 1 * 7 = 7\t 1 * 8 = 8\t \n",
            "2 * 1 = 2\t 2 * 2 = 4\t 2 * 3 = 6\t 2 * 4 = 8\t 2 * 5 = 10\t 2 * 6 = 12\t 2 * 7 = 14\t 2 * 8 = 16\t \n",
            "3 * 1 = 3\t 3 * 2 = 6\t 3 * 3 = 9\t 3 * 4 = 12\t 3 * 5 = 15\t 3 * 6 = 18\t 3 * 7 = 21\t 3 * 8 = 24\t \n",
            "4 * 1 = 4\t 4 * 2 = 8\t 4 * 3 = 12\t 4 * 4 = 16\t 4 * 5 = 20\t 4 * 6 = 24\t 4 * 7 = 28\t 4 * 8 = 32\t \n",
            "5 * 1 = 5\t 5 * 2 = 10\t 5 * 3 = 15\t 5 * 4 = 20\t 5 * 5 = 25\t 5 * 6 = 30\t 5 * 7 = 35\t 5 * 8 = 40\t \n",
            "6 * 1 = 6\t 6 * 2 = 12\t 6 * 3 = 18\t 6 * 4 = 24\t 6 * 5 = 30\t 6 * 6 = 36\t 6 * 7 = 42\t 6 * 8 = 48\t \n",
            "7 * 1 = 7\t 7 * 2 = 14\t 7 * 3 = 21\t 7 * 4 = 28\t 7 * 5 = 35\t 7 * 6 = 42\t 7 * 7 = 49\t 7 * 8 = 56\t \n",
            "8 * 1 = 8\t 8 * 2 = 16\t 8 * 3 = 24\t 8 * 4 = 32\t 8 * 5 = 40\t 8 * 6 = 48\t 8 * 7 = 56\t 8 * 8 = 64\t \n"
          ]
        }
      ]
    },
    {
      "cell_type": "markdown",
      "source": [],
      "metadata": {
        "id": "Vx7ImJrfFMvK"
      }
    },
    {
      "cell_type": "markdown",
      "source": [
        "№ 4.2.12\n",
        "\n",
        "Даны целые числа a и b (a может быть больше b). Напечатайте:\n",
        "\n",
        "• числа от минимального до максимального в строчку (разделяя пробелом);\n",
        "\n",
        "• числа от максимального до минимального «столбиком»."
      ],
      "metadata": {
        "id": "W3Q4moJ1-hRk"
      }
    },
    {
      "cell_type": "code",
      "source": [
        "a = int(input('Введите первое число: '))\n",
        "b = int(input('Введите второе число: '))\n",
        "\n",
        "ls = list(range(a,b+1,1))\n",
        "print(ls)\n",
        "\n",
        "\n",
        "ls.reverse()\n",
        "print(\"\\n\".join(map(str, ls))) #join воссоединяет все элементы списка, map применяет их ко всем элементам.\n",
        "\n",
        "# --------------\n",
        "# Пример вывода:\n",
        "#\n",
        "# a = 1\n",
        "# b = 5\n",
        "# 1 2 3 4 5\n",
        "# 5\n",
        "# 4\n",
        "# 3\n",
        "# 2\n",
        "# 1"
      ],
      "metadata": {
        "colab": {
          "base_uri": "https://localhost:8080/"
        },
        "id": "N3BCjRhj-jZb",
        "outputId": "5513b572-8f59-4ba2-805b-6f87ba4e9961"
      },
      "execution_count": 28,
      "outputs": [
        {
          "output_type": "stream",
          "name": "stdout",
          "text": [
            "Введите первое число: 1\n",
            "Введите второе число: 5\n",
            "[1, 2, 3, 4, 5]\n",
            "5\n",
            "4\n",
            "3\n",
            "2\n",
            "1\n"
          ]
        }
      ]
    },
    {
      "cell_type": "markdown",
      "source": [
        "№ 4.2.14\n",
        "\n",
        "Начав тренировки, лыжник в первый день пробежал s км. (s>0, вещественное число). Каждый следующий день он увеличивал пробег на p % (0<p≤100, вещественное число) от пробега предыдущего дня. Определите:\n",
        "\n",
        "• пробег лыжника за второй, третий, …, десятый день тренировок;\n",
        "\n",
        "• какой суммарный путь он пробежал за первые 10 дней тренировок.\n",
        "\n",
        "При выводе вещественных результатов оставьте один знак после запятой."
      ],
      "metadata": {
        "id": "iTtNl9zUD9jA"
      }
    },
    {
      "cell_type": "code",
      "source": [
        "s = float(input('Введите кол-во км в первый день: '))\n",
        "p = float(input('Введите процент увеличения нагрузки: '))\n",
        "\n",
        "tot = list() #Вводим список\n",
        "tot.append(s) #Вводим в список первую пробежку\n",
        "\n",
        "g = 0 #Вводим пару переменных \n",
        "f = 1\n",
        "for x in range(9): #Делаем цикл на 10 действий\n",
        "    s = ((s*(p/100))+s)+0.0001\n",
        "    f += 1\n",
        "    tot.append(s)\n",
        "    print('Пробег за',f,'день: ', round(s,1), 'км.')\n",
        "\n",
        "total = sum(tot)\n",
        "print(\"Суммарный пробег: \", round(total,1))\n",
        "\n",
        "# --------------\n",
        "# Пример вывода:\n",
        "#\n",
        "# Пробег за 1-й день (км.) = 5\n",
        "# На сколько увеличивает пробег (%) = 10\n",
        "# Пробег за 2-й день: 5.5 км.\n",
        "# Пробег за 3-й день: 6.1 км.\n",
        "# Пробег за 4-й день: 6.7 км.\n",
        "# Пробег за 5-й день: 7.3 км.\n",
        "# Пробег за 6-й день: 8.1 км.\n",
        "# Пробег за 7-й день: 8.9 км.\n",
        "# Пробег за 8-й день: 9.7 км.\n",
        "# Пробег за 9-й день: 10.7 км.\n",
        "# Пробег за 10-й день: 11.8 км.\n",
        "# Суммарный пробег: 79.7 км."
      ],
      "metadata": {
        "colab": {
          "base_uri": "https://localhost:8080/"
        },
        "id": "xyq7dYYHEDG7",
        "outputId": "bad52da5-5e34-4c9c-acd6-001da245918a"
      },
      "execution_count": 29,
      "outputs": [
        {
          "output_type": "stream",
          "name": "stdout",
          "text": [
            "Введите кол-во км в первый день: 5\n",
            "Введите процент увеличения нагрузки: 10\n",
            "Пробег за 2 день:  5.5 км.\n",
            "Пробег за 3 день:  6.1 км.\n",
            "Пробег за 4 день:  6.7 км.\n",
            "Пробег за 5 день:  7.3 км.\n",
            "Пробег за 6 день:  8.1 км.\n",
            "Пробег за 7 день:  8.9 км.\n",
            "Пробег за 8 день:  9.7 км.\n",
            "Пробег за 9 день:  10.7 км.\n",
            "Пробег за 10 день:  11.8 км.\n",
            "Суммарный пробег:  79.7\n"
          ]
        }
      ]
    },
    {
      "cell_type": "markdown",
      "source": [
        "№ 4.2.26\n",
        "\n",
        "Выведите графическое изображения делимости чисел от 1 до n (значение n вводится с клавиатуры) - в каждой строке напечатайте очередное число и столько символов *, сколько делителей у этого числа.\n",
        "\n",
        "Например, если n=4, на экране должно быть напечатано:\n",
        "\n",
        "1 *\n",
        "\n",
        "2 **\n",
        "\n",
        "3 **\n",
        "\n",
        "4 *** "
      ],
      "metadata": {
        "id": "7yKKeADVEhOH"
      }
    },
    {
      "cell_type": "code",
      "source": [
        "n = int(input('Введите число: '))\n",
        "\n",
        "for f in range(2,n+1):\n",
        "    a = 2\n",
        "    g = 2\n",
        "    while (g*g<=f):\n",
        "        if f%g==0:\n",
        "            a += 1\n",
        "            b = f//g\n",
        "            if b != g:\n",
        "                a += 1\n",
        "        g += 1\n",
        "        \n",
        "    print(f,a*\"*\")\n",
        "\n",
        "\n",
        "# --------------\n",
        "# Пример вывода:\n",
        "#\n",
        "# n = 10\n",
        "# 1 *\n",
        "# 2 **\n",
        "# 3 **\n",
        "# 4 ***\n",
        "# 5 **\n",
        "# 6 ****\n",
        "# 7 **\n",
        "# 8 ****\n",
        "# 9 ***\n",
        "# 10 ****"
      ],
      "metadata": {
        "colab": {
          "base_uri": "https://localhost:8080/"
        },
        "id": "Vrq8gbWdFTi6",
        "outputId": "50f6c0fb-7fa5-4cdd-dae5-b0f544fe17c0"
      },
      "execution_count": 30,
      "outputs": [
        {
          "output_type": "stream",
          "name": "stdout",
          "text": [
            "Введите число: 10\n",
            "2 **\n",
            "3 **\n",
            "4 ***\n",
            "5 **\n",
            "6 ****\n",
            "7 **\n",
            "8 ****\n",
            "9 ***\n",
            "10 ****\n"
          ]
        }
      ]
    }
  ]
}