{
  "nbformat": 4,
  "nbformat_minor": 0,
  "metadata": {
    "colab": {
      "provenance": [],
      "authorship_tag": "ABX9TyPemqiGFU2h9MRD66JaJJ08",
      "include_colab_link": true
    },
    "kernelspec": {
      "name": "python3",
      "display_name": "Python 3"
    },
    "language_info": {
      "name": "python"
    }
  },
  "cells": [
    {
      "cell_type": "markdown",
      "metadata": {
        "id": "view-in-github",
        "colab_type": "text"
      },
      "source": [
        "<a href=\"https://colab.research.google.com/github/MazyVermoh/osnovy_programming/blob/main/practice_1_3.ipynb\" target=\"_parent\"><img src=\"https://colab.research.google.com/assets/colab-badge.svg\" alt=\"Open In Colab\"/></a>"
      ]
    },
    {
      "cell_type": "markdown",
      "source": [
        "Task 1.3.1\n",
        "\n",
        "1.3.1 Создайте для класса «студент» функцию, которая считает средний балл по трем дисциплинам, оценки по которым вводятся пользователям.\n",
        "\n",
        "Реализуйте программу двумя способами: без использования конструктора init и с ним"
      ],
      "metadata": {
        "id": "EgTTZi5ATm31"
      }
    },
    {
      "cell_type": "code",
      "execution_count": null,
      "metadata": {
        "colab": {
          "base_uri": "https://localhost:8080/"
        },
        "id": "ADqdW8ygThKP",
        "outputId": "217f37fd-4f94-47f0-f940-9f23520011ee"
      },
      "outputs": [
        {
          "output_type": "stream",
          "name": "stdout",
          "text": [
            "Введите оценку по первой дисциплине: 5\n",
            "Введите оценку по второй дисциплине: 4\n",
            "Введите оценку по третьей дисциплине: 2\n",
            "Средний балл студента равен: 3.67\n"
          ]
        }
      ],
      "source": [
        "class Student:\n",
        "    def __init__(self):\n",
        "        self.marks = []\n",
        "\n",
        "    def add_mark(self, grade):\n",
        "        self.marks.append(grade)\n",
        "\n",
        "    def average_mark(self):\n",
        "        return round(sum(self.marks) / len(self.marks), 2)\n",
        "\n",
        "\n",
        "a = Student()\n",
        "\n",
        "mark1 = int(input('Введите оценку по первой дисциплине: ',))\n",
        "a.add_mark(mark1)\n",
        "\n",
        "mark2 = int(input('Введите оценку по второй дисциплине: '))\n",
        "a.add_mark(mark2)\n",
        "\n",
        "mark3 = int(input('Введите оценку по третьей дисциплине: '))\n",
        "a.add_mark(mark3)\n",
        "\n",
        "print('Средний балл студента равен:', a.average_mark())"
      ]
    },
    {
      "cell_type": "code",
      "source": [
        "class Student:\n",
        "    mark1 = int(input('Введите оценку по первой дисциплине: '))\n",
        "    mark2 = int(input('Введите оценку по второй дисциплине: '))\n",
        "    mark3 = int(input('Введите оценку по третьей дисциплине: '))\n",
        "    def avarage_mark(self):\n",
        "        return round((self.mark1 + self.mark2 + self.mark3) / 3, 2)\n",
        "\n",
        "a = Student()\n",
        "\n",
        "print('Средний балл студента равен:', a.avarage_mark())"
      ],
      "metadata": {
        "id": "dWZ8qOoHYlYD",
        "colab": {
          "base_uri": "https://localhost:8080/"
        },
        "outputId": "1f0eeaa0-423e-48b6-95a9-3c8bd1af56e9"
      },
      "execution_count": null,
      "outputs": [
        {
          "output_type": "stream",
          "name": "stdout",
          "text": [
            "Введите оценку по первой дисциплине: 5\n",
            "Введите оценку по второй дисциплине: 4\n",
            "Введите оценку по третьей дисциплине: 2\n",
            "Средний балл студента равен: 3.67\n"
          ]
        }
      ]
    },
    {
      "cell_type": "markdown",
      "source": [
        "# Task 1.3.2 with Task 1.3.3\n",
        "\n",
        "1. Создайте функцию, которая считает и выводит в файл заработную плату сотрудника склада в зависимости от количества отработанных дней в месяце. Оклад является защищаемым атрибутом класса «сотрудник».\n",
        "\n",
        "2. Используя результат предыдущего задания, создайте функцию начисления премии сотруднику, вычисляемую как 1% от уровня заработной платы."
      ],
      "metadata": {
        "id": "qcwCgvBauw1D"
      }
    },
    {
      "cell_type": "code",
      "source": [
        "try:\n",
        "  okl = float(input('Введите заработную плату: '))\n",
        "  wd = int(input('Введите кол-во рабочих дней в месяце: '))\n",
        "  fw = int(input('Введите фактическое кол-во отработанных дней: '))\n",
        "except:\n",
        "  print(\"Проверьте данные\")\n",
        "class Employee:\n",
        "  def __init__(self):\n",
        "    self.okl = okl\n",
        "    self.wd = wd\n",
        "    self.fw = fw\n",
        "    self.res = 0\n",
        "  def act_salary(self):\n",
        "    self.res = self.okl / self.wd * self.fw\n",
        "    a = open('salary', 'w') \n",
        "    a.write('Salary = ' + str(self.res) + '\\n') \n",
        "    a.close()\n",
        "\n",
        "  def award(self):\n",
        "    i = self.act_salary()\n",
        "    self.res += (self.res * 0.01)\n",
        "    a = open('salary', 'a')\n",
        "    a.write('Salary + award = ' + str(self.res) + '\\n')\n",
        "    a.close()\n",
        "    return self.res\n",
        "        \n",
        "if __name__ == \"__main__\":\n",
        "    c = Employee()\n",
        "    c.award()"
      ],
      "metadata": {
        "colab": {
          "base_uri": "https://localhost:8080/"
        },
        "id": "Ttvi_gXqu4Er",
        "outputId": "62dbbd31-1527-4fa9-b46d-3648fd456064"
      },
      "execution_count": null,
      "outputs": [
        {
          "name": "stdout",
          "output_type": "stream",
          "text": [
            "Введите заработную плату: 20000\n",
            "Введите кол-во рабочих дней в месяце: 10\n",
            "Введите фактическое кол-во отработанных дней: 20\n"
          ]
        }
      ]
    },
    {
      "cell_type": "markdown",
      "source": [
        "# №1.3.5\n",
        "\n",
        "Используя технологию перегрузки операторов, измените truediv(деление) так, чтобы числителем был знаменатель и наоборот. Аналогичные процедуры осуществите для операторов floordiv(целочисленное деление), mod(остаток от деления). Числа вводят пользователи. Предусмотрите отработку исключений.\n"
      ],
      "metadata": {
        "id": "KhjfmIYzweIU"
      }
    },
    {
      "cell_type": "code",
      "source": [
        "class A():\n",
        "    def __init__(self, a):\n",
        "        self.q = float(a)\n",
        "    def __truediv__(self, b):\n",
        "        return b / self.q\n",
        "    def __floordiv__(self, c):\n",
        "        return int(c // self.q)\n",
        "    def __mod__(self, d):\n",
        "        return int(d % self.q)\n",
        "    \n",
        "try:\n",
        "  x = A(int(input()))\n",
        "  b = int(input())\n",
        "  print(x / b) # 0.42\n",
        "  print(x // b) # 1\n",
        "  print(x % b) # 3\n",
        "except ZeroDivisionError and ValueError:\n",
        "  print(\"Проверьте введенные данные\")\n"
      ],
      "metadata": {
        "colab": {
          "base_uri": "https://localhost:8080/"
        },
        "id": "DSSmHvEqweZD",
        "outputId": "73d21ad8-6427-499d-f8a8-836321f3e37b"
      },
      "execution_count": null,
      "outputs": [
        {
          "output_type": "stream",
          "name": "stdout",
          "text": [
            "2\n",
            "4\n",
            "2.0\n",
            "2\n",
            "0\n"
          ]
        }
      ]
    }
  ]
}