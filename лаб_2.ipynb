{
  "nbformat": 4,
  "nbformat_minor": 0,
  "metadata": {
    "colab": {
      "provenance": [],
      "authorship_tag": "ABX9TyMBNjmjyu8LFyEB6kDKCjLn",
      "include_colab_link": true
    },
    "kernelspec": {
      "name": "python3",
      "display_name": "Python 3"
    },
    "language_info": {
      "name": "python"
    }
  },
  "cells": [
    {
      "cell_type": "markdown",
      "metadata": {
        "id": "view-in-github",
        "colab_type": "text"
      },
      "source": [
        "<a href=\"https://colab.research.google.com/github/MazyVermoh/osnovy_programming/blob/main/%D0%BB%D0%B0%D0%B1_2.ipynb\" target=\"_parent\"><img src=\"https://colab.research.google.com/assets/colab-badge.svg\" alt=\"Open In Colab\"/></a>"
      ]
    },
    {
      "cell_type": "markdown",
      "source": [
        "В рамках приложения разработать класс В – наследник класса А (задание 2) с полем d и свойством с2. Свойство с2 – результат вычисления выражения над полями a, b, d. В теле свойства использовать управляющий оператор (см. вариант в таблице 2.2). У класса А создать конструктор, инициализирующий его поля. Для класса В определить 2 конструктора: один – наследуется от конструктора класса А, второй – собственный. В теле программы создать объекты классов А и В, продемонстрировав работу всех конструкторов. Вывести значения свойства на экран."
      ],
      "metadata": {
        "id": "2J7gUWGn7yBT"
      }
    },
    {
      "cell_type": "code",
      "execution_count": null,
      "metadata": {
        "id": "KLgsodZh7C6Y"
      },
      "outputs": [],
      "source": [
        "class A():\n",
        "    \"\"\"\n",
        "    Class that divides and reduce numbers.\n",
        "    \"\"\"\n",
        "    def __init__(self, a, b):\n",
        "        self.a = a\n",
        "        self.b = b\n",
        "\n",
        "    def divide(self, a=1, b=1):\n",
        "        \"\"\"\n",
        "        Function divides first number by second number.\n",
        "        \"\"\"\n",
        "        c = self.a / self.b\n",
        "        return c\n",
        "\n",
        "    def reduce(self, a=1, b=1):\n",
        "        \"\"\"\n",
        "        Function reduce first number by second number.\n",
        "        \"\"\"\n",
        "        c = self.a - self.b\n",
        "        return c\n",
        "\n",
        "    def __del__(self):\n",
        "        print('Process deleted.')\n",
        "\n",
        "class B(A):\n",
        "    \"\"\"\n",
        "    Class, that derived from class `A`.\n",
        "    \"\"\"\n",
        "    def __init__(self, a, b, c):\n",
        "        self.c = c\n",
        "        self.b = b\n",
        "        self.a = a\n",
        "        # Переопределение метода (добавление еще одной переменной)\n",
        "\n",
        "    def c2(self):\n",
        "        if self.c < self.a:\n",
        "            res = self.divide(self.c, self.a)\n",
        "        elif self.c > self.a:\n",
        "            res = self.reduce(self.c, self.a)\n",
        "        elif self.c == self.a:\n",
        "            res = self.c\n",
        "        elif self.c < self.b:\n",
        "            res = self.divide(self.c, self.b)\n",
        "        elif self.c > self.b:\n",
        "            res = self.reduce(self.c, self.b)\n",
        "        elif self.c == self.b:\n",
        "            res = self.b\n",
        "        return res"
      ]
    },
    {
      "cell_type": "code",
      "source": [
        "if __name__ == '__main__':\n",
        "    f = A(2, 3)\n",
        "    g = B(3, 4, 5)\n",
        "\n",
        "    print('a = {}, b = {}, c = {}'.format(g.a, g.b, g.c))\n",
        "\n",
        "    # Конструктор класса A:\n",
        "    print('-' * 5 + '\\n' + 'Конструктор класса А:')\n",
        "    print(f.a) # Output: 2\n",
        "    print(f.b) # Output: 3\n",
        "\n",
        "    # Конструктор класса B:\n",
        "    print('-' * 5 + '\\n' + 'Конструктор класса B')\n",
        "    print(g.a) # Output: 3\n",
        "    print(g.b) # Output: 4\n",
        "    print(g.c) # Output: 5\n",
        "\n",
        "    print('-' * 5)\n",
        "\n",
        "    print(g.c2()) # Output: -1\n",
        "\n",
        "    g.a = 8\n",
        "    print(g.c2()) # Output: 2.0\n",
        "\n",
        "    g.b = 1\n",
        "    print(g.c2()) # Output: 8.0\n",
        "\n",
        "    del f, g"
      ],
      "metadata": {
        "colab": {
          "base_uri": "https://localhost:8080/"
        },
        "id": "wRqQdVGT7_O7",
        "outputId": "dcd95529-abd5-4709-ec9d-41dee3ae79e4"
      },
      "execution_count": null,
      "outputs": [
        {
          "output_type": "stream",
          "name": "stdout",
          "text": [
            "a = 3, b = 4, c = 5\n",
            "-----\n",
            "Конструктор класса А:\n",
            "2\n",
            "3\n",
            "-----\n",
            "Конструктор класса B\n",
            "3\n",
            "4\n",
            "5\n",
            "-----\n",
            "-1\n",
            "2.0\n",
            "8.0\n",
            "Process deleted.\n",
            "Process deleted.\n"
          ]
        }
      ]
    },
    {
      "cell_type": "markdown",
      "source": [
        "## Упражнения для всех вариантов\n",
        "Создайте класс «зарплата», который вычисляет сумму зарплаты в зависимости\n",
        "от тарифной ставки и числа отработанных дней. Расширьте метод начислением процентов в зависимости от объема продаж."
      ],
      "metadata": {
        "id": "kIwH_jzr8agZ"
      }
    },
    {
      "cell_type": "code",
      "source": [
        "try:\n",
        "  class Salary:\n",
        "    def __init__(self, rate, days):\n",
        "      self.days = days\n",
        "      self.rate = rate\n",
        "\n",
        "    def calculate(self, sales):\n",
        "      salary = self.rate * self.days\n",
        "      salary = salary + (sales * 0.1)\n",
        "      return salary\n",
        "  m = Salary(1000, 20)\n",
        "  print(\"Salary with sales:\", m.calculate(5000))\n",
        "except Exception:\n",
        "  print('Любая ошибка!')"
      ],
      "metadata": {
        "colab": {
          "base_uri": "https://localhost:8080/"
        },
        "id": "IbCUKoS48cxL",
        "outputId": "54d82108-cc5b-4be5-c60f-f7d522a2a9bc"
      },
      "execution_count": null,
      "outputs": [
        {
          "output_type": "stream",
          "name": "stdout",
          "text": [
            "Salary with sales: 20500.0\n"
          ]
        }
      ]
    },
    {
      "cell_type": "markdown",
      "source": [
        "\n",
        "Переопределите метод начисления зарплаты: в случае, если объем продаж в\n",
        "месяц превысил 1 000 000, проценты добавляются к зарплате, в противном случае – вычитаются."
      ],
      "metadata": {
        "id": "SxUk4pn18hqN"
      }
    },
    {
      "cell_type": "code",
      "source": [
        "class Salary:\n",
        "  def __init__(self, rate, days, sales):\n",
        "    self.rate = rate\n",
        "    self.days = days\n",
        "    self.sales = sales\n",
        "\n",
        "  def calculate_salary(self):\n",
        "    base_salary = self.rate * self.days\n",
        "    bonus = self.sales * 0.01\n",
        "    if self.sales > 1000000:\n",
        "      total_salary = base_salary + bonus\n",
        "    else:\n",
        "      total_salary = base_salary - bonus\n",
        "    return total_salary\n",
        "m = Salary(200, 5,  1000001)\n",
        "print(m.calculate_salary())\n"
      ],
      "metadata": {
        "colab": {
          "base_uri": "https://localhost:8080/"
        },
        "id": "wvMhlJ3F8iqG",
        "outputId": "c57efbc2-e203-4db7-8112-7b4903f7571e"
      },
      "execution_count": null,
      "outputs": [
        {
          "output_type": "stream",
          "name": "stdout",
          "text": [
            "11000.01\n"
          ]
        }
      ]
    },
    {
      "cell_type": "markdown",
      "source": [
        "3. Создайте для класса «сотрудники» абстрактный метод начисления зарплаты. Создайте два класса-наследника: сотрудник отдела продаж и сотрудник склада.Для первого класса начисление происходит аналогично заданию 1, а для второго –в зависимости от количества отработанных дней."
      ],
      "metadata": {
        "id": "Jq49S3xx8mhy"
      }
    },
    {
      "cell_type": "code",
      "source": [
        "from abc import ABC, abstractmethod\n",
        "\n",
        "class Employee(ABC):\n",
        "  def __init__(self, name, rate):\n",
        "    self.name = name\n",
        "    self.rate = rate\n",
        "\n",
        "  @abstractmethod\n",
        "  def calculate_salary(self):\n",
        "    pass\n",
        "\n",
        "class FirstEmployee(Employee):\n",
        "  def __init__(self, name, rate, sales_volume):\n",
        "    super().__init__(name, rate)\n",
        "    self.sales_volume = sales_volume\n",
        "\n",
        "  def calculate_salary(self, days_worked):\n",
        "    salary = self.rate * days_worked\n",
        "    if self.sales_volume > 1000000:\n",
        "      salary += salary * 0.1\n",
        "    else:\n",
        "      salary -= salary * 0.1\n",
        "    return salary\n",
        "\n",
        "class SecondEmployee(Employee):\n",
        "  def __init__(self, name, rate, days_worked):\n",
        "    super().__init__(name, rate)\n",
        "    self.days_worked = days_worked\n",
        "\n",
        "  def calculate_salary(self):\n",
        "    return self.rate * self.days_worked\n",
        "m = FirstEmployee(\"John\", 100, 1200000)\n",
        "print(m.calculate_salary(20))\n",
        "n =SecondEmployee(\"Mike\", 80, 22)\n",
        "print(n.calculate_salary())"
      ],
      "metadata": {
        "colab": {
          "base_uri": "https://localhost:8080/"
        },
        "id": "uf4SnZwb8oLv",
        "outputId": "07514027-cf2d-48cc-8e85-198c280bc88a"
      },
      "execution_count": null,
      "outputs": [
        {
          "output_type": "stream",
          "name": "stdout",
          "text": [
            "2200.0\n",
            "1760\n"
          ]
        }
      ]
    },
    {
      "cell_type": "markdown",
      "source": [
        "5. Имеется класс «мебель». Создайте класс «корпусная мебель», «мягкая мебель» и «кухонная мебель». Определите атрибуты и методы родительского класса и классов-наследников."
      ],
      "metadata": {
        "id": "xBBtj0Xi8q5J"
      }
    },
    {
      "cell_type": "code",
      "source": [
        "from abc import ABC, abstractmethod\n",
        "\n",
        "class Furniture(ABC):\n",
        "  @abstractmethod\n",
        "  def get_type(self):\n",
        "    pass\n",
        "\n",
        "  @abstractmethod\n",
        "  def get_material(self):\n",
        "    pass\n",
        "\n",
        "class FurnitureCorporeal(Furniture):\n",
        "  def __init__(self, material, color):\n",
        "    self.material = material\n",
        "    self.color = color\n",
        "\n",
        "  def get_type(self):\n",
        "    return \"Корпусная мебель\"\n",
        "\n",
        "  def get_material(self):\n",
        "    return f\"{self.material} ({self.color})\"\n",
        "\n",
        "class FurnitureSoft(Furniture):\n",
        "  def __init__(self, material, color, cushion_type):\n",
        "    self.material = material\n",
        "    self.color = color\n",
        "    self.cushion_type = cushion_type\n",
        "\n",
        "  def get_type(self):\n",
        "    return \"Мягкая мебель\"\n",
        "\n",
        "  def get_material(self):\n",
        "    return f\"{self.material} ({self.color}), тип подушек: {self.cushion_type}\"\n",
        "\n",
        "class FurnitureKitchen(Furniture):\n",
        "  def __init__(self, material, color, style):\n",
        "    self.material = material\n",
        "    self.color = color\n",
        "    self.style = style\n",
        "\n",
        "  def get_type(self):\n",
        "    return \"Кухонная мебель\"\n",
        "\n",
        "  def get_material(self):\n",
        "    return f\"{self.material} ({self.color}), стиль: {self.style}\"\n",
        "\n",
        "m = FurnitureCorporeal(\"Дерево\", \"Коричневый\")\n",
        "n = FurnitureSoft(\"Ткань\", \"Синий\", \"Синтепух\")\n",
        "l = FurnitureKitchen(\"Пластик\", \"Белый\", \"Модерн\")\n",
        "\n",
        "# Вывод информации о мебели\n",
        "print(m.get_type())\n",
        "print(m.get_material())\n",
        "\n",
        "print(n.get_type())\n",
        "print(n.get_material())\n",
        "\n",
        "print(l.get_type())\n",
        "print(l.get_material())"
      ],
      "metadata": {
        "colab": {
          "base_uri": "https://localhost:8080/"
        },
        "id": "gwDKcQAe8tHz",
        "outputId": "10d80cdb-2b6c-4532-e270-a8b3ba8e5c29"
      },
      "execution_count": null,
      "outputs": [
        {
          "output_type": "stream",
          "name": "stdout",
          "text": [
            "Корпусная мебель\n",
            "Дерево (Коричневый)\n",
            "Мягкая мебель\n",
            "Ткань (Синий), тип подушек: Синтепух\n",
            "Кухонная мебель\n",
            "Пластик (Белый), стиль: Модерн\n"
          ]
        }
      ]
    },
    {
      "cell_type": "markdown",
      "source": [
        "6. Создайте приложение, в котором необходимо разработать базовый класс man.\n",
        "Объекты этого класса содержат справочную информацию о конкретном человеке (фамилию, инициалы, телефон, адрес, возраст). Создайте два производных от него класса: manager и secretary. Объекты класса manager дополнительно включают номер отдела и количество подчиненных. Объекты класса manager дополнительно включают номер отдела и количество подчиненных. Объекты класса secretary дополнительно включают фамилию начальника. Данные о менеджерах и секретарях введите с клавиатуры и выведите на экран дисплея."
      ],
      "metadata": {
        "id": "xNjZxGqR83H9"
      }
    },
    {
      "cell_type": "code",
      "source": [
        "class Man:\n",
        "  def __init__(self, surname, initials, phone, address, age):\n",
        "    self.surname = surname\n",
        "    self.initials = initials\n",
        "    self.phone = phone\n",
        "    self.address = address\n",
        "    self.age = age\n",
        "\n",
        "class Manager(Man):\n",
        "  def __init__(self, surname, initials, phone, address, age, department_number, subordinates_count):\n",
        "    super().__init__(surname, initials, phone, address, age)\n",
        "    self.department_number = department_number\n",
        "    self.subordinates_count = subordinates_count\n",
        "\n",
        "class Secretary(Man):\n",
        "  def __init__(self, surname, initials, phone, address, age, boss_surname):\n",
        "    super().__init__(surname, initials, phone, address, age)\n",
        "    self.boss_surname = boss_surname\n",
        "\n",
        "surname = input(\"Введите фамилию: \")\n",
        "initials = input(\"Введите инициалы: \")\n",
        "phone = input(\"Введите телефон: \")\n",
        "address = input(\"Введите адрес: \")\n",
        "age = input(\"Введите возраст: \")\n",
        "\n",
        "department_number = input(\"Введите номер отдела (только для менеджера): \")\n",
        "subordinates_count = input(\"Введите количество подчиненных (только для менеджера): \")\n",
        "boss_surname = input(\"Введите фамилию начальника (только для секретаря): \")\n",
        "\n",
        "\n",
        "if department_number and subordinates_count:\n",
        "    man = Manager(surname, initials, phone, address, age, department_number, subordinates_count)\n",
        "elif boss_surname:\n",
        "    man = Secretary(surname, initials, phone, address, age, boss_surname)\n",
        "else:\n",
        "    man = Man(surname, initials, phone, address, age)\n",
        "\n",
        "\n",
        "print(\"Фамилия:\", man.surname)\n",
        "print(\"Инициалы:\", man.initials)\n",
        "print(\"Телефон:\", man.phone)\n",
        "print(\"Адрес:\", man.address)\n",
        "print(\"Возраст:\", man.age)\n",
        "\n",
        "if isinstance(man, Manager):\n",
        "    print(\"Номер отдела:\", man.department_number)\n",
        "    print(\"Количество подчиненных:\", man.subordinates_count)\n",
        "elif isinstance(man, Secretary):\n",
        "    print(\"Фамилия начальника:\", man.boss_surname)"
      ],
      "metadata": {
        "colab": {
          "base_uri": "https://localhost:8080/"
        },
        "id": "H70q_kaT85_M",
        "outputId": "82471dc9-03c2-4381-eac7-3bc881313411"
      },
      "execution_count": null,
      "outputs": [
        {
          "output_type": "stream",
          "name": "stdout",
          "text": [
            "Введите фамилию: Багаев\n",
            "Введите инициалы: МБ\n",
            "Введите телефон: 8800553535\n",
            "Введите адрес: улица Пушкина\n",
            "Введите возраст: 19\n",
            "Введите номер отдела (только для менеджера): 5\n",
            "Введите количество подчиненных (только для менеджера): 12\n",
            "Введите фамилию начальника (только для секретаря): Багаев\n",
            "Фамилия: Багаев\n",
            "Инициалы: МБ\n",
            "Телефон: 8800553535\n",
            "Адрес: улица Пушкина\n",
            "Возраст: 19\n",
            "Номер отдела: 5\n",
            "Количество подчиненных: 12\n"
          ]
        }
      ]
    },
    {
      "cell_type": "markdown",
      "source": [
        "8. В программе рассчитываются площади треугольника и прямоугольника. С этой целью создается абстрактный класс area, в котором сохраняются две размерности фигуры.В производных классах задайте вид конкретных фигур и возвратите их площади"
      ],
      "metadata": {
        "id": "6xSIkF1T9PWO"
      }
    },
    {
      "cell_type": "code",
      "source": [
        "from abc import ABC, abstractmethod\n",
        "\n",
        "class Area(ABC):\n",
        "    def __init__(self, length, width):\n",
        "        self.length = length\n",
        "        self.width = width\n",
        "\n",
        "    @abstractmethod\n",
        "    def get_area(self):\n",
        "        pass\n",
        "\n",
        "class Triangle(Area):\n",
        "    def get_area(self):\n",
        "        return 0.5 * self.length * self.width\n",
        "\n",
        "class Rectangle(Area):\n",
        "    def get_area(self):\n",
        "        return self.length * self.width\n",
        "\n",
        "# Пример использования\n",
        "t = Triangle(10, 5)\n",
        "print(\"Площадь треугольника: \", t.get_area())\n",
        "\n",
        "r = Rectangle(8, 6)\n",
        "print(\"Площадь прямоугольника: \", r.get_area())\n"
      ],
      "metadata": {
        "colab": {
          "base_uri": "https://localhost:8080/"
        },
        "id": "SezM7bNU9SEh",
        "outputId": "038ff8a5-1547-4c27-8595-aae46faef448"
      },
      "execution_count": null,
      "outputs": [
        {
          "output_type": "stream",
          "name": "stdout",
          "text": [
            "Площадь треугольника:  25.0\n",
            "Площадь прямоугольника:  48\n"
          ]
        }
      ]
    }
  ]
}