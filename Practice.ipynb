{
  "nbformat": 4,
  "nbformat_minor": 0,
  "metadata": {
    "colab": {
      "provenance": [],
      "authorship_tag": "ABX9TyNsgG1Fan+gPwaFTAl23MYF",
      "include_colab_link": true
    },
    "kernelspec": {
      "name": "python3",
      "display_name": "Python 3"
    },
    "language_info": {
      "name": "python"
    }
  },
  "cells": [
    {
      "cell_type": "markdown",
      "metadata": {
        "id": "view-in-github",
        "colab_type": "text"
      },
      "source": [
        "<a href=\"https://colab.research.google.com/github/MazyVermoh/osnovy_programming/blob/main/Practice.ipynb\" target=\"_parent\"><img src=\"https://colab.research.google.com/assets/colab-badge.svg\" alt=\"Open In Colab\"/></a>"
      ]
    },
    {
      "cell_type": "code",
      "execution_count": null,
      "metadata": {
        "colab": {
          "base_uri": "https://localhost:8080/"
        },
        "id": "_04lTOEiiV8M",
        "outputId": "3aa64c7b-14b7-4577-8373-72ee8c0069c1"
      },
      "outputs": [
        {
          "output_type": "stream",
          "name": "stdout",
          "text": [
            "20\n",
            "22\n"
          ]
        }
      ],
      "source": [
        "class A():\n",
        "    a = int ()\n",
        "    b = int ()\n",
        "    def __init__(self, a, b):\n",
        "        self.a = a\n",
        "        self.b = b\n",
        "\n",
        "    def multi(self):\n",
        "        self.a *= self.b\n",
        "        return self.a\n",
        "        \n",
        "    def addition(self):\n",
        "        print(self.a + self.b)\n",
        "       \n",
        "\n",
        "a = A(10, 2)\n",
        "\n",
        "print(a.multi())\n",
        "a.addition()  \n"
      ]
    }
  ]
}