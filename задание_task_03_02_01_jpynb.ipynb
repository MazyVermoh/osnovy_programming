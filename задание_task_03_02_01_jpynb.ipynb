{
  "nbformat": 4,
  "nbformat_minor": 0,
  "metadata": {
    "colab": {
      "provenance": [],
      "collapsed_sections": [],
      "authorship_tag": "ABX9TyNmyuWe9ywBN51SzlN5yKpG",
      "include_colab_link": true
    },
    "kernelspec": {
      "name": "python3",
      "display_name": "Python 3"
    },
    "language_info": {
      "name": "python"
    }
  },
  "cells": [
    {
      "cell_type": "markdown",
      "metadata": {
        "id": "view-in-github",
        "colab_type": "text"
      },
      "source": [
        "<a href=\"https://colab.research.google.com/github/MazyVermoh/osnovy_programming/blob/main/%D0%B7%D0%B0%D0%B4%D0%B0%D0%BD%D0%B8%D0%B5_task_03_02_01_jpynb.ipynb\" target=\"_parent\"><img src=\"https://colab.research.google.com/assets/colab-badge.svg\" alt=\"Open In Colab\"/></a>"
      ]
    },
    {
      "cell_type": "markdown",
      "source": [
        "#3.2.1. Числа\n",
        "\n",
        "№ 3.2.1\n",
        "\n",
        "Составьте программу, которая запрашивает у пользователя 2 целых числа и выполняет операции:\n",
        "\n",
        "арифметические: +, -, * , / , // , %, **;\n",
        "сравнение: <, <=, >, >=, !=, ==,\n",
        "выводя на экран результат каждого действия. В случае получение вещественного результата, округлите его до 2-х знаков после запятой (используя функцию round())."
      ],
      "metadata": {
        "id": "nHcLzZpi6nC7"
      }
    },
    {
      "cell_type": "code",
      "source": [
        "# Программирование на языке высокого уровня (Python).\n",
        "# https://www.yuripetrov.ru/edu/python\n",
        "# Задание task_03_02_01.\n",
        "#\n",
        "# Выполнил: Фамилия И.О.\n",
        "# Группа: !!!\n",
        "# E-mail: !!!\n",
        "\n",
        "\n",
        "a = int(input(\"a=\"))\n",
        "b = # Удалите комментарий и допишите код\n",
        "\n",
        "print(a + b)\n",
        "print(# Удалите комментарий и допишите код)\n",
        "# Удалите комментарий и допишите код для прочих операций\n",
        "\n",
        "print(a < b)\n",
        "print(# Удалите комментарий и допишите код)\n",
        "# Удалите комментарий и допишите код для прочих операций\n",
        "\n",
        "\n",
        "# --------------\n",
        "# Пример вывода:\n",
        "#\n",
        "# a=2\n",
        "# b=3\n",
        "# 5\n",
        "# -1\n",
        "# 6\n",
        "# 0.67\n",
        "# 0\n",
        "# 2\n",
        "# 8\n",
        "# True\n",
        "# True\n",
        "# False\n",
        "# False\n",
        "# True\n",
        "# False\n"
      ],
      "metadata": {
        "id": "CRfSVuQK64_h"
      },
      "execution_count": null,
      "outputs": []
    },
    {
      "cell_type": "code",
      "source": [
        "a = int(input(\"a=\"))\n",
        "b = int(input(\"b=\"))\n",
        "\n",
        "print(a + b)\n",
        "print(a - b)\n",
        "print(a * b)\n",
        "print(round(a / b,2))\n",
        "print(a // b)\n",
        "print(a % b)\n",
        "print(a ** b)\n",
        "\n",
        "print(a < b)\n",
        "print(a <= b)\n",
        "print(a >= b)\n",
        "print(a != b)\n",
        "print(a == b)"
      ],
      "metadata": {
        "colab": {
          "base_uri": "https://localhost:8080/"
        },
        "id": "5JLXgtio71bg",
        "outputId": "d0629829-c27f-4717-9754-732b9fe93888"
      },
      "execution_count": null,
      "outputs": [
        {
          "output_type": "stream",
          "name": "stdout",
          "text": [
            "a=2\n",
            "b=3\n",
            "5\n",
            "-1\n",
            "6\n",
            "0.67\n",
            "0\n",
            "2\n",
            "8\n",
            "True\n",
            "True\n",
            "False\n",
            "True\n",
            "False\n"
          ]
        }
      ]
    },
    {
      "cell_type": "markdown",
      "source": [
        "Вычислите значение следующего выражения (аргументы - целые числа и вводятся с клавиатуры):\n",
        "\n",
        "![E22ADA6B-DA9F-49B5-81BB-B3B99002F107.jpeg](data:image/jpeg;base64,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)\n",
        "\n",
        "Округлите результат до 3-х знаков после запятой, используя функцию round().\n",
        "\n"
      ],
      "metadata": {
        "id": "c0972hsHBQfQ"
      }
    },
    {
      "cell_type": "code",
      "source": [
        "# Программирование на языке высокого уровня (Python).\n",
        "# https://www.yuripetrov.ru/edu/python\n",
        "# Задание task_03_02_02.\n",
        "#\n",
        "# Выполнил: Фамилия И.О.\n",
        "# Группа: !!!\n",
        "# E-mail: !!!\n",
        "\n",
        "\n",
        "x = # Удалите комментарий и допишите код\n",
        "y = # Удалите комментарий и допишите код\n",
        "z = # Удалите комментарий и допишите код\n",
        "\n",
        "res = # Удалите комментарий и допишите код\n",
        "\n",
        "# Удалите комментарий и допишите код\n",
        "\n",
        "\n",
        "# --------------\n",
        "# Пример вывода:\n",
        "#\n",
        "# x=0\n",
        "# y=1\n",
        "# z=2\n",
        "# 0.15\n",
        "\n"
      ],
      "metadata": {
        "id": "NPBNRV4MBk7u"
      },
      "execution_count": null,
      "outputs": []
    },
    {
      "cell_type": "code",
      "source": [
        "x = int(input()) #Ввод числа с клавиатуры\n",
        "y = int(input()) #Ввод числа с клавиатуры \n",
        "z = int(input()) #Ввод числа с клаиватуры \n",
        "res = (( ( x ** 5 + 7)/(abs(-6) * y) )** (1/3) ) / (7 - z%y)\n",
        "print(round(res, 3))\n",
        "# -----------------\n",
        "# Пример вывода:\n",
        "# \n",
        "# x = 0\n",
        "# y = 1\n",
        "# z = 2\n",
        "# 0.15"
      ],
      "metadata": {
        "colab": {
          "base_uri": "https://localhost:8080/"
        },
        "id": "Qn74QWIkByAd",
        "outputId": "18ac7ba2-9c1d-493e-f110-32e29a6d1325"
      },
      "execution_count": null,
      "outputs": [
        {
          "output_type": "stream",
          "name": "stdout",
          "text": [
            "0\n",
            "1\n",
            "2\n",
            "0.15\n"
          ]
        }
      ]
    },
    {
      "cell_type": "markdown",
      "source": [
        "3.2.3\n",
        "Дана электрическая цепь, состоящая из 2-х последовательно соединенных проводников (сопротивление каждого известно). Найти общее сопротивление цепи (округление результата необходимо выполнить до 1-го знака после запятой)."
      ],
      "metadata": {
        "id": "0us4YRx3FDNm"
      }
    },
    {
      "cell_type": "code",
      "source": [
        "print(\"Введите значение сопротивления первого проводника\")\n",
        "r1 = float(input()) #Ввод вещественного числа с помощью float.\n",
        "print(\"Введите значение сопротивления второго проводника\")\n",
        "r2 = float(input()) #Ввод вещественного числа с помощью float.\n",
        "r = r1 + r2\n",
        "print(\"Общее сопротивление равно:\",r)\n",
        "# ----------------\n",
        "# Пример вывода:\n",
        "#\n",
        "# r1 = 12.2\n",
        "# r2 = 16.1\n",
        "# 28.3"
      ],
      "metadata": {
        "colab": {
          "base_uri": "https://localhost:8080/"
        },
        "id": "5zGZ6YgIFIAw",
        "outputId": "0dbd65a3-d761-48f3-d8e9-875f2ff62664"
      },
      "execution_count": null,
      "outputs": [
        {
          "output_type": "stream",
          "name": "stdout",
          "text": [
            "Введите значение сопротивления первого проводника\n",
            "12.2\n",
            "Введите значение сопротивления второго проводника\n",
            "16.1\n",
            "Общее сопротивление равно: 28.3\n"
          ]
        }
      ]
    },
    {
      "cell_type": "markdown",
      "source": [
        "№ 3.2.4\n",
        "\n",
        "Дано двузначное и трехзначное число. Для каждого выведите на экран сумму и произведение цифр."
      ],
      "metadata": {
        "id": "Py8Yk_C-HCll"
      }
    },
    {
      "cell_type": "code",
      "source": [
        "# Программирование на языке высокого уров\n",
        "# https://www.yuripetrov.ru/edu/python\n",
        "# Задание task_03_02_04.\n",
        "#\n",
        "# Выполнил: Фамилия И.О.\n",
        "# Группа: !!!\n",
        "# E-mail: !!!\n",
        "\n",
        "\n",
        "# Двузначное число\n",
        "num2 = list(map(int, input(\"Введите двузначное число: \"))) #Ввод двузначного числа\n",
        "# Трехзначное число\n",
        "num3 = list(map(int, input(\"Введите трехзначное число\"))) #Ввод трехзначного числа\n",
        "\n",
        "\n",
        "# 1-я цифра числа 'num2'\n",
        "num2_1 = num2[0]\n",
        "# 2-я цифра числа 'num2'\n",
        "num2_2 = num2 [1]\n",
        "\n",
        "# Сумма цифр числа 'num2'\n",
        "num2_s = num2_1+num2_2\n",
        "# Произведение цифр числа 'num2'\n",
        "num2_p = num2_1*num2_2\n",
        "\n",
        "# 1-я цифра числа 'num3'\n",
        "num3_1 = num3[0]\n",
        "# 2-я цифра числа 'num3'\n",
        "num3_2 = num3[1]\n",
        "# 3-я цифра числа 'num3'\n",
        "num3_3 = num3[2]\n",
        "\n",
        "# Сумма цифр числа 'num3'\n",
        "num3_s = num3_1+num3_2+num3_3\n",
        "# Произведение цифр числа 'num3'\n",
        "num3_p = num3_1*num3_2+2*num3_3\n",
        "\n",
        "# Вывод результата\n",
        "print(\"Сумма и произведение цифр первого числа: \",num2_s, num2_p)\n",
        "print(\"Сумма и произведение цифр второго числа: \",num3_s, num3_p)\n",
        "\n",
        "# --------------\n",
        "# Пример вывода:\n",
        "#\n",
        "# Двузначное число: 45\n",
        "# Трехзначное число: 456\n",
        "# Сумма и произведение цифр двузначного числа: 9 20\n",
        "# Сумма и произведение цифр трехзначного числа: 15 120\n",
        "\n"
      ],
      "metadata": {
        "colab": {
          "base_uri": "https://localhost:8080/"
        },
        "id": "1nPXNDOqHIJz",
        "outputId": "ae52506e-ec7d-42c0-9a40-47ed9a6a17c4"
      },
      "execution_count": null,
      "outputs": [
        {
          "output_type": "stream",
          "name": "stdout",
          "text": [
            "Введите двузначное число: 45\n",
            "Введите трехзначное число456\n",
            "Сумма и произведение цифр первого числа:  9 20\n",
            "Сумма и произведение цифр второго числа:  15 32\n"
          ]
        }
      ]
    },
    {
      "cell_type": "markdown",
      "source": [
        "N 3.2.6\n",
        "\n",
        "Дано уравнение ax + b = 0 и отрезок [𝑚;𝑛]\n",
        "[\n",
        "m\n",
        ";\n",
        "n\n",
        "]\n",
        ". Ответьте на вопрос, попадает ли решение уравнения в указанный отрезок.\n",
        "\n",
        "Решение (начало и общий ход мыслей):\n",
        "\n"
      ],
      "metadata": {
        "id": "vpPpLncMLCZe"
      }
    },
    {
      "cell_type": "code",
      "source": [
        "# Программирование на языке высокого уровня (Python).\n",
        "# https://www.yuripetrov.ru/edu/python\n",
        "# Задание task_03_02_06.\n",
        "#\n",
        "# Выполнил: Фамилия И.О.\n",
        "# Группа: !!!\n",
        "# E-mail: !!!\n",
        "\n",
        "\n",
        "a =int(input())\n",
        "b =int(input())\n",
        "m =int(input())\n",
        "n =int(input())\n",
        "\n",
        "x =-b//a\n",
        "is_ok =bool((x>=m) and (x<=n))\n",
        "\n",
        "print(\"Попадает:\", is_ok)\n",
        "\n",
        "\n",
        "# --------------\n",
        "# Пример вывода:\n",
        "#\n",
        "# Введите a = 1\n",
        "# Введите b = 2\n",
        "# Введите m = -5\n",
        "# Введите n = 5\n",
        "# Попадает: True\n"
      ],
      "metadata": {
        "colab": {
          "base_uri": "https://localhost:8080/"
        },
        "id": "kjBiocoGLLlw",
        "outputId": "eedd3bcc-2304-42d7-e4c1-46a5c4cfe8ab"
      },
      "execution_count": null,
      "outputs": [
        {
          "output_type": "stream",
          "name": "stdout",
          "text": [
            "1\n",
            "2\n",
            "-5\n",
            "5\n",
            "Попадает: True\n"
          ]
        }
      ]
    },
    {
      "cell_type": "markdown",
      "source": [
        "№ 3.2.7\n",
        "\n",
        "Составьте программу, которая запрашивает название футбольной команды и повторяет его на экране со словами"
      ],
      "metadata": {
        "id": "iPGJQggmL_p6"
      }
    },
    {
      "cell_type": "code",
      "source": [
        "# Программирование на языке высокого уровня (Python).\n",
        "# https://www.yuripetrov.ru/edu/python\n",
        "# Задание task_03_02_07.\n",
        "#\n",
        "# Выполнил: Фамилия И.О.\n",
        "# Группа: !!!\n",
        "# E-mail: !!!\n",
        "\n",
        "\n",
        "team = input(\"Введите название команды: Барселона\")\n",
        "\n",
        "print(team+\"-чемпион!\")\n",
        "\n",
        "print(\"-\"*len(team))\n",
        "\n",
        "# Название команды в нижнем регистре\n",
        "team_lowercase =print(team.lower())\n",
        "print(\"Символ в названии команды\",len(team))\n",
        "print(\"буква 'п' есть:\",bool(\"п\") in \"Барселона\")\n",
        "print('Количество букв \"а\"',team.find(\"а\"))\n",
        "\n",
        "\n",
        "# --------------\n",
        "# Пример вывода:\n",
        "#\n",
        "# Введите название команды: Барселона\n",
        "# Барселона - чемпион!\n",
        "# -------\n",
        "# Символов в названии команды: 9\n",
        "# Буква \"п\" есть: False\n",
        "# Количество букв \"а\": 2\n"
      ],
      "metadata": {
        "colab": {
          "base_uri": "https://localhost:8080/",
          "height": 321
        },
        "id": "nXpm8zEGMFDZ",
        "outputId": "8027af47-e6c4-47a8-bd8a-76197075bd45"
      },
      "execution_count": 3,
      "outputs": [
        {
          "output_type": "stream",
          "name": "stdout",
          "text": [
            "Введите название команды: Барселоначемпион!\n",
            "чемпион!-чемпион!\n",
            "--------\n",
            "чемпион!\n",
            "Символ в названии команды 8\n"
          ]
        },
        {
          "output_type": "error",
          "ename": "TypeError",
          "evalue": "ignored",
          "traceback": [
            "\u001b[0;31m---------------------------------------------------------------------------\u001b[0m",
            "\u001b[0;31mTypeError\u001b[0m                                 Traceback (most recent call last)",
            "\u001b[0;32m<ipython-input-3-aa0bfddec44c>\u001b[0m in \u001b[0;36m<module>\u001b[0;34m\u001b[0m\n\u001b[1;32m     17\u001b[0m \u001b[0mteam_lowercase\u001b[0m \u001b[0;34m=\u001b[0m\u001b[0mprint\u001b[0m\u001b[0;34m(\u001b[0m\u001b[0mteam\u001b[0m\u001b[0;34m.\u001b[0m\u001b[0mlower\u001b[0m\u001b[0;34m(\u001b[0m\u001b[0;34m)\u001b[0m\u001b[0;34m)\u001b[0m\u001b[0;34m\u001b[0m\u001b[0;34m\u001b[0m\u001b[0m\n\u001b[1;32m     18\u001b[0m \u001b[0mprint\u001b[0m\u001b[0;34m(\u001b[0m\u001b[0;34m\"Символ в названии команды\"\u001b[0m\u001b[0;34m,\u001b[0m\u001b[0mlen\u001b[0m\u001b[0;34m(\u001b[0m\u001b[0mteam\u001b[0m\u001b[0;34m)\u001b[0m\u001b[0;34m)\u001b[0m\u001b[0;34m\u001b[0m\u001b[0;34m\u001b[0m\u001b[0m\n\u001b[0;32m---> 19\u001b[0;31m \u001b[0mprint\u001b[0m\u001b[0;34m(\u001b[0m\u001b[0;34m\"буква 'п' есть:\"\u001b[0m\u001b[0;34m,\u001b[0m\u001b[0mbool\u001b[0m\u001b[0;34m(\u001b[0m\u001b[0;34m\"п\"\u001b[0m\u001b[0;34m)\u001b[0m \u001b[0;32min\u001b[0m \u001b[0;34m\"Барселона\"\u001b[0m\u001b[0;34m)\u001b[0m\u001b[0;34m\u001b[0m\u001b[0;34m\u001b[0m\u001b[0m\n\u001b[0m\u001b[1;32m     20\u001b[0m \u001b[0mprint\u001b[0m\u001b[0;34m(\u001b[0m\u001b[0;34m'Количество букв \"а\"'\u001b[0m\u001b[0;34m,\u001b[0m\u001b[0mteam\u001b[0m\u001b[0;34m.\u001b[0m\u001b[0mfind\u001b[0m\u001b[0;34m(\u001b[0m\u001b[0;34m\"а\"\u001b[0m\u001b[0;34m)\u001b[0m\u001b[0;34m)\u001b[0m\u001b[0;34m\u001b[0m\u001b[0;34m\u001b[0m\u001b[0m\n\u001b[1;32m     21\u001b[0m \u001b[0;34m\u001b[0m\u001b[0m\n",
            "\u001b[0;31mTypeError\u001b[0m: 'in <string>' requires string as left operand, not bool"
          ]
        }
      ]
    }
  ]
}