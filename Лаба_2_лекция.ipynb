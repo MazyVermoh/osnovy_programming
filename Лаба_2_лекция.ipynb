{
  "nbformat": 4,
  "nbformat_minor": 0,
  "metadata": {
    "colab": {
      "provenance": [],
      "include_colab_link": true
    },
    "kernelspec": {
      "name": "python3",
      "display_name": "Python 3"
    },
    "language_info": {
      "name": "python"
    }
  },
  "cells": [
    {
      "cell_type": "markdown",
      "metadata": {
        "id": "view-in-github",
        "colab_type": "text"
      },
      "source": [
        "<a href=\"https://colab.research.google.com/github/MazyVermoh/osnovy_programming/blob/main/%D0%9B%D0%B0%D0%B1%D0%B0_2_%D0%BB%D0%B5%D0%BA%D1%86%D0%B8%D1%8F.ipynb\" target=\"_parent\"><img src=\"https://colab.research.google.com/assets/colab-badge.svg\" alt=\"Open In Colab\"/></a>"
      ]
    },
    {
      "cell_type": "markdown",
      "source": [
        "# **Коды с лекции второй практической работы на 07.03.2023**"
      ],
      "metadata": {
        "id": "Wucl64ZY84iz"
      }
    },
    {
      "cell_type": "code",
      "source": [],
      "metadata": {
        "id": "xD9fuFWhDPE9"
      },
      "execution_count": null,
      "outputs": []
    },
    {
      "cell_type": "markdown",
      "source": [
        "Следующий исходный код демонстрирует пример построения иерархии\n",
        "классов."
      ],
      "metadata": {
        "id": "RzrTeLiC9KVH"
      }
    },
    {
      "cell_type": "code",
      "source": [
        "class Person:\n",
        "    def __init__(self, nаmе='Человек без имени'):\n",
        "        self.nаmе = nаmе\n",
        "        self.age = 0\n",
        "    def say(self):\n",
        "        print(\"{0} говорит\".format(self.nаmе))\n",
        "    # Person - родительский класс\n",
        "\n",
        "class Employee(Person):\n",
        "    def set_job(self, job_title='Безработный'):\n",
        "        self.job_title = job_title\n",
        "    def get_job(self):\n",
        "        print(self.job_title)\n",
        "    # Employee - дочерний класс\n",
        "\n",
        "class Customer(Person):\n",
        "    def set_email(self, email='Heт почты'):\n",
        "        self.email = email\n",
        "    def get_email(self):\n",
        "        print(self.email)\n",
        "\n",
        "# создаем человека с именем 'Петр':\n",
        "person = Person('Петр')\n",
        "# просим человека что-нибудь сказать:\n",
        "person.say()\n",
        "# создаем работника без имени:\n",
        "emp = Employee()\n",
        "emp.say() # метод наследовался из класса Person\n",
        "# хотим, чтобы в момент создания Employee\n",
        "# заполнялась должность\n",
        "cust = Customer('Елена')\n",
        "cust.say()\n",
        "# метод наследовался из класса Person\n",
        "# хотим, чтобы в момент создания Customer\n",
        "# заполнялась почта"
      ],
      "metadata": {
        "colab": {
          "base_uri": "https://localhost:8080/"
        },
        "id": "IkNipodB9KFo",
        "outputId": "c8e4055d-c724-48e5-ac13-2be82566dc18"
      },
      "execution_count": null,
      "outputs": [
        {
          "output_type": "stream",
          "name": "stdout",
          "text": [
            "Петр говорит\n",
            "Человек без имени говорит\n",
            "Елена говорит\n"
          ]
        }
      ]
    },
    {
      "cell_type": "markdown",
      "source": [
        "В примере по умолчанию наследуется конструктор базового класса Person,\n",
        "но в нем не определяются атрибуты дочерних классов. Исправим ситуацию\n",
        "путем переопределения конструктора в дочерних классах на представленном\n",
        "ниже примере."
      ],
      "metadata": {
        "id": "FyzNU4-K-foW"
      }
    },
    {
      "cell_type": "code",
      "execution_count": null,
      "metadata": {
        "id": "ZoyIkJNb8vV9"
      },
      "outputs": [],
      "source": [
        "class Person:\n",
        "    def __init__(self, name='Человек без имени'):\n",
        "        self.name = name\n",
        "        self.age = 0\n",
        "\n",
        "    def say(self):\n",
        "        print(\"{0} говорит\".format(self.name))\n",
        "\n",
        "class Employee(Person):\n",
        "# переопределяем конструктор:\n",
        "    def __init__(self, name):\n",
        "# вызываем конструктор базового класса:\n",
        "        Person.__init__(self)\n",
        "# определяем атрибут по умолчанию:\n",
        "        self.job_title = 'Безработный'\n",
        "    def set_job(self, job_title='Безработный'):\n",
        "        self.job_title = job_title\n",
        "    def get_job(self):\n",
        "        print(self.name, self.job_title)\n",
        "\n",
        "class Customer(Person):\n",
        "    def __init__(self, name):\n",
        "        Person.__init__(self)\n",
        "        self.email = 'Нет почты'\n",
        "    def set_email(self, email='Нет почты'):\n",
        "        self.email = email\n",
        "    def get_email(self):\n",
        "        print(self.name, self.email)"
      ]
    },
    {
      "cell_type": "code",
      "source": [
        "person = Person('Иван')\n",
        "person.say()\n",
        "emp = Employee('Игорь')\n",
        "emp.say()\n",
        "emp.get_job()\n",
        "cust = Customer('Петр')\n",
        "cust.say()\n",
        "cust.get_email()"
      ],
      "metadata": {
        "colab": {
          "base_uri": "https://localhost:8080/"
        },
        "id": "8vl54BDf-k4z",
        "outputId": "d41576d7-1425-4bf4-8ac5-92223821e61e"
      },
      "execution_count": null,
      "outputs": [
        {
          "output_type": "stream",
          "name": "stdout",
          "text": [
            "Иван говорит\n",
            "Человек без имени говорит\n",
            "Человек без имени Безработный\n",
            "Человек без имени говорит\n",
            "Человек без имени Нет почты\n"
          ]
        }
      ]
    },
    {
      "cell_type": "markdown",
      "source": [
        "Если язык программирования поддерживает множественное наследование,\n",
        "то у одного класса-потомка, может быть, несколько родительских классов. Язык\n",
        "Python поддерживает множественное наследование. Поля родительского класса\n",
        "при наследовании переходят к классу-потомку. Кроме того, поля родительского\n",
        "класса могут переопределены у потомка. Рассмотрим следующий пример.\n"
      ],
      "metadata": {
        "id": "P8I9SlNe-7Hs"
      }
    },
    {
      "cell_type": "code",
      "source": [
        "class A:\n",
        "    def some_function(self):\n",
        "        print(\"First function\")\n",
        "\n",
        "    def other_function(self):\n",
        "        print(\"Second function\")\n",
        "\n",
        "class B:\n",
        "    def method_in_B(self):\n",
        "        print(\"Third function\")\n",
        "\n",
        "class C(A):\n",
        "    def other_function(self):\n",
        "        print(\"Replaced function\")\n",
        "\n",
        "class D(B, C):\n",
        "    pass"
      ],
      "metadata": {
        "id": "Z5_4Ujxp-65q"
      },
      "execution_count": null,
      "outputs": []
    },
    {
      "cell_type": "code",
      "source": [
        "# Посмотрим все атрибуты класса, не являющиеся служебными\n",
        "print(\"A:\\t\", list(filter(lambda x: \"__\" not in x, dir(A))))\n",
        "print(\"B:\\t\", list(filter(lambda x: \"__\" not in x, dir(B))))\n",
        "print(\"C(A):\\t\", list(filter(lambda x: \"__\" not in x,\n",
        "dir(C))))\n",
        "print(\"D(B,C):\\t\", list(filter(lambda x: \"__\" not in x,\n",
        "dir(D))))\n",
        "print()"
      ],
      "metadata": {
        "colab": {
          "base_uri": "https://localhost:8080/"
        },
        "id": "lnHSGboU_XBJ",
        "outputId": "d4378a1e-3102-4246-ea53-2e3a6203a7fe"
      },
      "execution_count": null,
      "outputs": [
        {
          "output_type": "stream",
          "name": "stdout",
          "text": [
            "A:\t ['other_function', 'some_function']\n",
            "B:\t ['method_in_B']\n",
            "C(A):\t ['other_function', 'some_function']\n",
            "D(B,C):\t ['method_in_B', 'other_function', 'some_function']\n",
            "\n"
          ]
        }
      ]
    },
    {
      "cell_type": "code",
      "source": [
        "d = D()\n",
        "d.method_in_B()\n",
        "d.some_function()\n",
        "d.other_function()\n",
        "print()"
      ],
      "metadata": {
        "colab": {
          "base_uri": "https://localhost:8080/"
        },
        "id": "P_bQp8-E_Y5q",
        "outputId": "8c45d8f5-9296-4a93-9837-845371ec4d50"
      },
      "execution_count": null,
      "outputs": [
        {
          "output_type": "stream",
          "name": "stdout",
          "text": [
            "Third function\n",
            "First function\n",
            "Replaced function\n",
            "\n"
          ]
        }
      ]
    },
    {
      "cell_type": "markdown",
      "source": [
        "Наследование – одна из самых важных и мощных парадигм ООП. При\n",
        "наследовании мы оперируем такими понятиями, как родительский класс и класс\n",
        "потомок. Класс-потомок наследует методы и переменные, определенные в\n",
        "родительском классе. Рассмотрим на примере ниже."
      ],
      "metadata": {
        "id": "FCMXd5QD_gPZ"
      }
    },
    {
      "cell_type": "code",
      "source": [
        "class A:\n",
        "    var_A = 1\n",
        "    def method_A(self):\n",
        "        print(\"A\")\n",
        "\n",
        "class B(A):\n",
        "    var_B = 2\n",
        "    def method_B(self):\n",
        "        print(\"B\")\n",
        "\n",
        "class C(B):\n",
        "    var_C = 3\n",
        "    def method_C(self):\n",
        "        print(\"C\")\n"
      ],
      "metadata": {
        "id": "lTitvpKS_hV5"
      },
      "execution_count": null,
      "outputs": []
    },
    {
      "cell_type": "code",
      "source": [
        "print(\"A:\\t\", list(filter(lambda x: \"__\" not in x,\n",
        "dir(A))))\n",
        "print(\"B(A):\\t\", list(filter(lambda x: \"__\" not in x,\n",
        "dir(B))))\n",
        "print(\"C(B):\\t\", list(filter(lambda x: \"__\" not in x,\n",
        "dir(C))))\n",
        "print()\n",
        "\n",
        "# Print:\n",
        "# A: ['method_A', 'var_A']\n",
        "# B(A): ['method_A', 'method_B', 'var_A', 'var_B']\n",
        "# C(B): ['method_A', 'method_B', 'method_C', 'var_A', 'var_B', 'var_C']\n"
      ],
      "metadata": {
        "colab": {
          "base_uri": "https://localhost:8080/"
        },
        "id": "M0x5i8aI_4oX",
        "outputId": "0d5b3eb7-e470-4b6d-fe0e-92f06a723eca"
      },
      "execution_count": null,
      "outputs": [
        {
          "output_type": "stream",
          "name": "stdout",
          "text": [
            "A:\t ['method_A', 'var_A']\n",
            "B(A):\t ['method_A', 'method_B', 'var_A', 'var_B']\n",
            "C(B):\t ['method_A', 'method_B', 'method_C', 'var_A', 'var_B', 'var_C']\n",
            "\n"
          ]
        }
      ]
    },
    {
      "cell_type": "markdown",
      "source": [
        "При наследовании класс-потомок может переопределять методы и\n",
        "переменные родительского класса:"
      ],
      "metadata": {
        "id": "Dz0r-ZKsAD25"
      }
    },
    {
      "cell_type": "code",
      "source": [
        "class A:\n",
        "    value = 13\n",
        "    def some_method(self):\n",
        "        print(f\"Method in A, value = {self.value}\")\n",
        "class B(A):\n",
        "    def some_method(self):\n",
        "        print(f\"Method in B, value = {self.value}\")\n",
        "class C(B):\n",
        "    value = 6\n",
        "    def some_method(self):\n",
        "        print(f\"Method in C, value = {self.value}\")\n",
        "\n",
        "A().some_method()\n",
        "B().some_method()\n",
        "C().some_method()\n",
        "print()\n",
        "\n",
        "# Print:\n",
        "# Method in A, value = 13\n",
        "# Method in B, value = 13\n",
        "# Method in C, value = 6"
      ],
      "metadata": {
        "colab": {
          "base_uri": "https://localhost:8080/"
        },
        "id": "ndA-zHuGAUF6",
        "outputId": "f4ec539b-19e2-4514-ddba-a97fd03a2c42"
      },
      "execution_count": null,
      "outputs": [
        {
          "output_type": "stream",
          "name": "stdout",
          "text": [
            "Method in A, value = 13\n",
            "Method in B, value = 13\n",
            "Method in C, value = 6\n",
            "\n"
          ]
        }
      ]
    },
    {
      "cell_type": "markdown",
      "source": [
        "Множественное наследование позволяет получить доступ к атрибутам\n",
        "нескольких родительских классов. На примере ниже это продемонстрируем."
      ],
      "metadata": {
        "id": "MRVp0pytA_nN"
      }
    },
    {
      "cell_type": "code",
      "source": [
        "class A:\n",
        "    def some_function(self):\n",
        "        print(\"First function\")\n",
        "    def other_function(self):\n",
        "        print(\"Second function\")\n",
        "\n",
        "class B:\n",
        "    def method_in_B(self):\n",
        "        print(\"Third function\")\n",
        "class С(A, B):\n",
        "    pass\n",
        "\n",
        "# Посмотрим все атрибуты класса, не являющиеся служебными\n",
        "print(\"A:\\t\", list(filter(lambda x: \"__\" not in x,\n",
        "dir(A))))\n",
        "print(\"B:\\t\", list(filter(lambda x: \"__\" not in x,\n",
        "dir(B))))\n",
        "print(\"С(A,B):\\t\", list(filter(lambda x: \"__\" not in x,\n",
        "dir(С))))\n",
        "print()\n",
        "\n",
        "# Print:\n",
        "# A: ['other_function', 'some_function']\n",
        "# B: ['method_in_B']\n",
        "# С(A,B): ['method_in_B', 'other_function', 'some_function']"
      ],
      "metadata": {
        "colab": {
          "base_uri": "https://localhost:8080/"
        },
        "id": "UWPDPW8uA2RK",
        "outputId": "91156579-c9d6-43bd-857b-0775ce9fb69c"
      },
      "execution_count": null,
      "outputs": [
        {
          "output_type": "stream",
          "name": "stdout",
          "text": [
            "A:\t ['other_function', 'some_function']\n",
            "B:\t ['method_in_B']\n",
            "С(A,B):\t ['method_in_B', 'other_function', 'some_function']\n",
            "\n"
          ]
        }
      ]
    },
    {
      "cell_type": "markdown",
      "source": [
        "Одна из проблем множественного наследования – **Ромб Смерти**\n",
        "\n",
        "![Screenshot_1.png](data:image/png;base64,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)"
      ],
      "metadata": {
        "id": "bF5qyc4JCRIA"
      }
    },
    {
      "cell_type": "markdown",
      "source": [
        "При этом класс-наследник не знает, какую из реализаций некоторого\n",
        "метода следует выбрать. Эта проблема решается при помощи виртуального\n",
        "наследования. При этом вместо наследования реализации метода в класспотомок передается ссылка на метод родительского класса. Однако, если классыпотомки первого уровня оба переопределяют некоторый метод, все еще остается\n",
        "вопрос, какая из реализаций должна передаваться потомку второго уровня. Для\n",
        "этого в Python версии 2.3 и выше применяется механизм С3-линеаризации."
      ],
      "metadata": {
        "id": "9bhV9wOIDJMu"
      }
    }
  ]
}